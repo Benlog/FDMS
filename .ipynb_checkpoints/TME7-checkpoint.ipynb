{
 "cells": [
  {
   "cell_type": "code",
   "execution_count": 67,
   "metadata": {},
   "outputs": [],
   "source": [
    "import torch\n",
    "import torch.autograd as autograd\n",
    "import torch.nn as nn\n",
    "import torch.nn.functional as F\n",
    "import torch.optim as optim\n",
    "from matplotlib import pyplot as plt\n",
    "from pathlib import Path\n",
    "import pandas as pd\n",
    "import networkx as nx\n",
    "from bidict import bidict\n",
    "import types\n",
    "%matplotlib inline"
   ]
  },
  {
   "cell_type": "code",
   "execution_count": 2,
   "metadata": {},
   "outputs": [],
   "source": [
    "pathContent = Path(\"./WebKB/content/\")\n",
    "pathCites = Path(\"./WebKB/cites/\")\n",
    "contentPath = {pC.stem : pC for pC in pathContent.glob(\"*.content\")}\n",
    "dataPath = {k : (v, (pathCites / (k+'.cites'))) for k,v in contentPath.items() if (pathCites / (k+'.cites')).is_file()}"
   ]
  },
  {
   "cell_type": "code",
   "execution_count": 3,
   "metadata": {},
   "outputs": [],
   "source": [
    "def readContent(path):\n",
    "    return pd.read_csv(path, header=None, delim_whitespace=True).rename(columns={0:\"node\",1704:\"class\"})\n",
    "def readCites(path):\n",
    "    return pd.read_csv(path, names=[\"source\",'target'], delim_whitespace=True)"
   ]
  },
  {
   "cell_type": "code",
   "execution_count": 4,
   "metadata": {},
   "outputs": [],
   "source": [
    "data = {k : (readContent(vc), nx.DiGraph(readCites(vci))) for k,(vc,vci) in dataPath.items()}"
   ]
  },
  {
   "cell_type": "code",
   "execution_count": 68,
   "metadata": {},
   "outputs": [],
   "source": [
    "def trainer(self, x, y, ite = 500, batchSize = 100):\n",
    "    ml = torch.nn.CrossEntropyLoss()\n",
    "    opt = optim.SGD(self.parameters(), lr=1e-3)\n",
    "    \n",
    "    for i in range(ite):\n",
    "        perm = torch.randperm(x.size()[0])\n",
    "        \n",
    "        x = autograd.Variable(x[perm[:batchSize]])\n",
    "        y = autograd.Variable(y[perm[:batchSize]])\n",
    "        f = self.forward(x)\n",
    "        loss = ml.forward(f, y)\n",
    "        loss.backward()\n",
    "        opt.step()\n",
    "    \n",
    "        if histo :\n",
    "            histo[0].append(loss.data.mean())\n",
    "            ypred = torch.max(f, 1)[1]\n",
    "            histo[1].append(torch.eq(ypred.data, y).float().mean())\n",
    "\n",
    "def triLayerNN(inn, out):\n",
    "    r = nn.Sequential(nn.Linear(inn,inn), nn.Linear(inn,inn), nn.Linear(inn,out))\n",
    "    r.train = types.MethodType(trainer, r)\n",
    "    return r\n"
   ]
  },
  {
   "cell_type": "code",
   "execution_count": 30,
   "metadata": {},
   "outputs": [],
   "source": [
    "def createBiDictLabelToIndices(labels):\n",
    "    r = bidict()\n",
    "    for i, l  in enumerate(labels):\n",
    "        r[l] = i\n",
    "    return r\n",
    "\n",
    "class LabelToOneHot(object):\n",
    "    def __init__(self, labels):\n",
    "        self.d = createBiDictLabelToIndices(labels)\n",
    "    \n",
    "    def toOneHot(self, labels):\n",
    "        '''\n",
    "            :param labels: the label you want to be transform into onehot\n",
    "            :labels type: a list a label\n",
    "            :rtype: a tensor len(labels)*numberOfAllLabels\n",
    "        '''\n",
    "        r = torch.zeros(len(labels), len(self.d))\n",
    "        ind = torch.LongTensor([[self.d[l] for l in labels]]).t()\n",
    "        return r.scatter_(1, ind, 1.)\n",
    "    \n",
    "    def fromOneHot(self, tensor):\n",
    "        return [self.d.inv[i] for i in tensor.max(1)[1]]"
   ]
  },
  {
   "cell_type": "code",
   "execution_count": 38,
   "metadata": {},
   "outputs": [
    {
     "name": "stdout",
     "output_type": "stream",
     "text": [
      "\n",
      "    1     0     0     0\n",
      "    0     1     0     0\n",
      "    0     0     1     0\n",
      "    0     1     0     0\n",
      "    0     0     0     1\n",
      "    0     1     0     0\n",
      "    1     0     0     0\n",
      "    0     0     0     1\n",
      "[torch.FloatTensor of size 8x4]\n",
      " ['test', 'lol', 'mdr', 'lol', 'xd', 'lol', 'test', 'xd']\n"
     ]
    },
    {
     "data": {
      "text/plain": [
       "\n",
       " 0  1  0  0\n",
       " 0  0  1  0\n",
       " 0  1  0  0\n",
       " 1  0  0  0\n",
       "[torch.FloatTensor of size 4x4]"
      ]
     },
     "execution_count": 38,
     "metadata": {},
     "output_type": "execute_result"
    }
   ],
   "source": [
    "d = LabelToOneHot({'test', 'lol', 'mdr', 'xd'})\n",
    "t = d.toOneHot(['test', 'lol','mdr', 'lol','xd', 'lol','test', 'xd'])\n",
    "print(t,d.fromOneHot(t))\n",
    "t[[1,2,1,6]]"
   ]
  },
  {
   "cell_type": "code",
   "execution_count": 83,
   "metadata": {},
   "outputs": [],
   "source": [
    "class ICA(object):\n",
    "    def __init__(data, graph, model, agg):\n",
    "        '''\n",
    "            :param data: the data to train the model\n",
    "            :data type: panda data frame with at least a column \"node\" and \"class\", the rest are feature column\n",
    "            unknown label class in data are None\n",
    "            :param graph: the graph \n",
    "            :graph type: networkx graph of node->node\n",
    "            :param model: a model that implement a train function\n",
    "        '''\n",
    "        self.data = data\n",
    "        self.graph = graph\n",
    "        self.model = model\n",
    "        self.agg = agg\n",
    "        self.embeder = LabelToOneHot(pd.unique(data[data[\"class\"] != None][\"class\"]))\n",
    "    \n",
    "    def train(self):\n",
    "        dt = self.data[data[\"class\"].notna()]\n",
    "        x = dt.drop([\"node\",\"class\"])\n",
    "        y = self.embeder.toOneHot(dt[\"class\"])\n",
    "        self.model.train(x,y)\n",
    "        "
   ]
  },
  {
   "cell_type": "code",
   "execution_count": 70,
   "metadata": {},
   "outputs": [
    {
     "ename": "TypeError",
     "evalue": "trainer() missing 2 required positional arguments: 'x' and 'y'",
     "output_type": "error",
     "traceback": [
      "\u001b[0;31m---------------------------------------------------------------------------\u001b[0m",
      "\u001b[0;31mTypeError\u001b[0m                                 Traceback (most recent call last)",
      "\u001b[0;32m<ipython-input-70-7d0938b713eb>\u001b[0m in \u001b[0;36m<module>\u001b[0;34m()\u001b[0m\n\u001b[1;32m      1\u001b[0m \u001b[0mm\u001b[0m \u001b[0;34m=\u001b[0m \u001b[0mtriLayerNN\u001b[0m\u001b[0;34m(\u001b[0m\u001b[0;36m10\u001b[0m\u001b[0;34m,\u001b[0m\u001b[0;36m5\u001b[0m\u001b[0;34m)\u001b[0m\u001b[0;34m\u001b[0m\u001b[0m\n\u001b[0;32m----> 2\u001b[0;31m \u001b[0mm\u001b[0m\u001b[0;34m.\u001b[0m\u001b[0mtrain\u001b[0m\u001b[0;34m(\u001b[0m\u001b[0;34m)\u001b[0m\u001b[0;34m\u001b[0m\u001b[0m\n\u001b[0m",
      "\u001b[0;31mTypeError\u001b[0m: trainer() missing 2 required positional arguments: 'x' and 'y'"
     ]
    }
   ],
   "source": [
    "m = triLayerNN(10,5)\n",
    "m.train()"
   ]
  },
  {
   "cell_type": "code",
   "execution_count": 79,
   "metadata": {},
   "outputs": [],
   "source": [
    "d = data['cornell'][0]"
   ]
  },
  {
   "cell_type": "code",
   "execution_count": 86,
   "metadata": {},
   "outputs": [
    {
     "data": {
      "text/plain": [
       "array(['student', 'project', 'course', 'staff', 'faculty'], dtype=object)"
      ]
     },
     "execution_count": 86,
     "metadata": {},
     "output_type": "execute_result"
    }
   ],
   "source": [
    "pd.unique(d[d[\"class\"] != None][\"class\"])"
   ]
  },
  {
   "cell_type": "code",
   "execution_count": 102,
   "metadata": {},
   "outputs": [],
   "source": [
    "ind = d.sample(frac = 0.2).index\n",
    "d.loc[ind, \"class\"] = None"
   ]
  },
  {
   "cell_type": "code",
   "execution_count": null,
   "metadata": {},
   "outputs": [],
   "source": []
  }
 ],
 "metadata": {
  "kernelspec": {
   "display_name": "Python 3",
   "language": "python",
   "name": "python3"
  },
  "language_info": {
   "codemirror_mode": {
    "name": "ipython",
    "version": 3
   },
   "file_extension": ".py",
   "mimetype": "text/x-python",
   "name": "python",
   "nbconvert_exporter": "python",
   "pygments_lexer": "ipython3",
   "version": "3.6.3"
  }
 },
 "nbformat": 4,
 "nbformat_minor": 2
}
