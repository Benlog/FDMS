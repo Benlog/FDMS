{
 "cells": [
  {
   "cell_type": "code",
   "execution_count": 1,
   "metadata": {
    "collapsed": true
   },
   "outputs": [],
   "source": [
    "import numpy as np\n",
    "from matplotlib import pyplot as plt\n",
    "%matplotlib inline\n",
    "import sklearn as sk"
   ]
  },
  {
   "cell_type": "code",
   "execution_count": 24,
   "metadata": {
    "collapsed": true
   },
   "outputs": [],
   "source": [
    "from sklearn.base import BaseEstimator,ClassifierMixin\n",
    "class BagClassif(BaseEstimator,ClassifierMixin):\n",
    "    def __init__(self, l, r):\n",
    "        self.l = l\n",
    "        self.r = r\n",
    "    \n",
    "    def fit(self, x, y):\n",
    "        for i in self.l:\n",
    "            rand = np.random.randint(len(x), size = int(self.r * len(x)))\n",
    "            xi =  x[rand]\n",
    "            yi = y[rand]\n",
    "            i.fit(xi,yi)\n",
    "    \n",
    "    def predict(self, x):\n",
    "        #e, n = np.unique(np.array([self.l[i].predict(x) for i in range(len(self.l))]), return_counts = True, axis = 0)\n",
    "        pred = np.array([self.l[i].predict(x) for i in range(len(self.l))])\n",
    "        votes = [np.unique(i, return_counts = True) for i in pred.T]\n",
    "        return np.array([e[np.argmax(n)] for e,n in votes])"
   ]
  },
  {
   "cell_type": "code",
   "execution_count": 25,
   "metadata": {
    "collapsed": true
   },
   "outputs": [],
   "source": [
    "from sklearn import datasets\n",
    "from sklearn import metrics\n",
    "from sklearn import model_selection\n",
    "iris = datasets.load_iris()\n",
    "X = iris.data\n",
    "y = iris.target"
   ]
  },
  {
   "cell_type": "code",
   "execution_count": 43,
   "metadata": {
    "collapsed": true
   },
   "outputs": [],
   "source": [
    "from sklearn import tree\n",
    "l = [tree.DecisionTreeClassifier() for i in range(100)]\n",
    "b = BagClassif(l, 0.7)"
   ]
  },
  {
   "cell_type": "markdown",
   "metadata": {},
   "source": [
    "Test avec des arbres peu aléatoire"
   ]
  },
  {
   "cell_type": "code",
   "execution_count": 44,
   "metadata": {},
   "outputs": [
    {
     "data": {
      "text/plain": [
       "{'fit_time': array([ 0.03252292,  0.03151655,  0.03402376]),\n",
       " 'score_time': array([ 0.00650477,  0.00801349,  0.01050496]),\n",
       " 'test_score': array([ 0.98039216,  0.92156863,  1.        ]),\n",
       " 'train_score': array([ 1.        ,  0.98989899,  0.99019608])}"
      ]
     },
     "execution_count": 44,
     "metadata": {},
     "output_type": "execute_result"
    }
   ],
   "source": [
    "model_selection.cross_validate(b, X, y)"
   ]
  },
  {
   "cell_type": "code",
   "execution_count": 45,
   "metadata": {},
   "outputs": [
    {
     "data": {
      "text/plain": [
       "{'fit_time': array([ 0.00100064,  0.00050092,  0.00050092]),\n",
       " 'score_time': array([ 0.0005002,  0.       ,  0.       ]),\n",
       " 'test_score': array([ 0.98039216,  0.92156863,  0.97916667]),\n",
       " 'train_score': array([ 1.,  1.,  1.])}"
      ]
     },
     "execution_count": 45,
     "metadata": {},
     "output_type": "execute_result"
    }
   ],
   "source": [
    "a = tree.DecisionTreeClassifier()\n",
    "model_selection.cross_validate(a, X, y)"
   ]
  },
  {
   "cell_type": "markdown",
   "metadata": {},
   "source": [
    "Test avec des arbres plus aléatoire"
   ]
  },
  {
   "cell_type": "code",
   "execution_count": 46,
   "metadata": {},
   "outputs": [
    {
     "data": {
      "text/plain": [
       "{'fit_time': array([ 0.03252316,  0.03052163,  0.03552008]),\n",
       " 'score_time': array([ 0.00950694,  0.00650477,  0.00649214]),\n",
       " 'test_score': array([ 0.98039216,  0.90196078,  1.        ]),\n",
       " 'train_score': array([ 1.,  1.,  1.])}"
      ]
     },
     "execution_count": 46,
     "metadata": {},
     "output_type": "execute_result"
    }
   ],
   "source": [
    "l = [tree.DecisionTreeClassifier(splitter = \"random\") for i in range(100)]\n",
    "b = BagClassif(l, 0.7)\n",
    "model_selection.cross_validate(b, X, y)"
   ]
  },
  {
   "cell_type": "code",
   "execution_count": 47,
   "metadata": {},
   "outputs": [
    {
     "data": {
      "text/plain": [
       "{'fit_time': array([ 0.00048065,  0.00049973,  0.00050068]),\n",
       " 'score_time': array([ 0.00049996,  0.        ,  0.00050116]),\n",
       " 'test_score': array([ 0.94117647,  0.92156863,  0.95833333]),\n",
       " 'train_score': array([ 1.,  1.,  1.])}"
      ]
     },
     "execution_count": 47,
     "metadata": {},
     "output_type": "execute_result"
    }
   ],
   "source": [
    "a = tree.DecisionTreeClassifier(splitter = \"random\")\n",
    "model_selection.cross_validate(a, X, y)"
   ]
  },
  {
   "cell_type": "markdown",
   "metadata": {
    "collapsed": true
   },
   "source": [
    "On peut voir que pour certains fold, le bagging donne de meilleur résultats que un seul arbre, même si cela reste mitigé."
   ]
  },
  {
   "cell_type": "code",
   "execution_count": 127,
   "metadata": {},
   "outputs": [],
   "source": [
    "class AdaBoostClassifAlt(BaseEstimator,ClassifierMixin):\n",
    "    def __init__(self, cl):\n",
    "        self.l = l\n",
    "        '''T correspond au nombre de classifieurs dans l'''\n",
    "    \n",
    "    def fit(self, x, y):\n",
    "        self.w = np.full((1,len(y)), 1/len(y))\n",
    "        self.al = []\n",
    "        for i, c in enumerate(self.l):\n",
    "            c.fit(x,y)\n",
    "            y2 = c.predict(x)\n",
    "            e = np.sum(self.w[i][y != y2])\n",
    "            al = 1/2*np.log((1-e)/e)\n",
    "            self.al.append(al)\n",
    "            z = 2*np.sqrt(e*(1-e))\n",
    "            self.w = np.concatenate((self.w, (self.w[i]/z*np.exp(-al*y*y2)).reshape(1,-1)))\n",
    "    \n",
    "    def predict(self, x):\n",
    "        return np.sign(np.sum(np.array([c.predict(x)*self.al[i] for i,c in enumerate(self.l)]), axis = 0))"
   ]
  },
  {
   "cell_type": "code",
   "execution_count": 128,
   "metadata": {},
   "outputs": [],
   "source": [
    "X,y = sk.datasets.load_breast_cancer(return_X_y=True)\n",
    "y = y*2-1\n",
    "l = [tree.DecisionTreeClassifier(splitter = \"random\", max_depth=1) for i in range(100)]\n",
    "a = AdaBoostClassifAlt(l)"
   ]
  },
  {
   "cell_type": "code",
   "execution_count": 129,
   "metadata": {},
   "outputs": [
    {
     "data": {
      "text/plain": [
       "{'fit_time': array([ 0.06504631,  0.06354475,  0.0620327 ]),\n",
       " 'score_time': array([ 0.02457595,  0.00801802,  0.00901794]),\n",
       " 'test_score': array([ 0.93157895,  0.94736842,  0.95238095]),\n",
       " 'train_score': array([ 0.95778364,  0.94986807,  0.94736842])}"
      ]
     },
     "execution_count": 129,
     "metadata": {},
     "output_type": "execute_result"
    }
   ],
   "source": [
    "model_selection.cross_validate(a, X, y)"
   ]
  },
  {
   "cell_type": "code",
   "execution_count": 130,
   "metadata": {},
   "outputs": [
    {
     "data": {
      "text/plain": [
       "{'fit_time': array([ 0.00100112,  0.0010004 ,  0.00099993]),\n",
       " 'score_time': array([ 0.00049973,  0.00050044,  0.00049973]),\n",
       " 'test_score': array([ 0.92105263,  0.94210526,  0.93121693]),\n",
       " 'train_score': array([ 1.,  1.,  1.])}"
      ]
     },
     "execution_count": 130,
     "metadata": {},
     "output_type": "execute_result"
    }
   ],
   "source": [
    "a = tree.DecisionTreeClassifier(splitter = \"random\")\n",
    "model_selection.cross_validate(a, X, y)"
   ]
  },
  {
   "cell_type": "markdown",
   "metadata": {},
   "source": [
    "Cet adaboost ne pondère pas les exemples dans le fit de ses sous classifieur mais on remarque que ses performances restent meilleur qu'un classifieur seul."
   ]
  },
  {
   "cell_type": "code",
   "execution_count": 134,
   "metadata": {
    "collapsed": true
   },
   "outputs": [],
   "source": [
    "class AdaBoostClassif(BaseEstimator,ClassifierMixin):\n",
    "    def __init__(self, cl):\n",
    "        self.l = l\n",
    "        '''T correspond au nombre de classifieurs dans l'''\n",
    "    \n",
    "    def fit(self, x, y):\n",
    "        self.w = np.full((1,len(y)), 1/len(y))\n",
    "        self.al = []\n",
    "        for i, c in enumerate(self.l):\n",
    "            c.fit(x,y, self.w[i])\n",
    "            y2 = c.predict(x)\n",
    "            e = np.sum(self.w[i][y != y2])\n",
    "            al = 1/2*np.log((1-e)/e)\n",
    "            self.al.append(al)\n",
    "            z = 2*np.sqrt(e*(1-e))\n",
    "            self.w = np.concatenate((self.w, (self.w[i]/z*np.exp(-al*y*y2)).reshape(1,-1)))\n",
    "    \n",
    "    def predict(self, x):\n",
    "        return np.sign(np.sum(np.array([c.predict(x)*self.al[i] for i,c in enumerate(self.l)]), axis = 0))"
   ]
  },
  {
   "cell_type": "code",
   "execution_count": 135,
   "metadata": {
    "collapsed": true
   },
   "outputs": [],
   "source": [
    "l = [tree.DecisionTreeClassifier(splitter = \"random\", max_depth=1) for i in range(100)]\n",
    "a = AdaBoostClassif(l)"
   ]
  },
  {
   "cell_type": "markdown",
   "metadata": {},
   "source": [
    "model_selection.cross_validate(a, X, y)"
   ]
  },
  {
   "cell_type": "code",
   "execution_count": 137,
   "metadata": {},
   "outputs": [
    {
     "data": {
      "text/plain": [
       "{'fit_time': array([ 0.0010016 ,  0.00100064,  0.00099945]),\n",
       " 'score_time': array([ 0.00049996,  0.00049973,  0.        ]),\n",
       " 'test_score': array([ 0.93684211,  0.95263158,  0.9047619 ]),\n",
       " 'train_score': array([ 1.,  1.,  1.])}"
      ]
     },
     "execution_count": 137,
     "metadata": {},
     "output_type": "execute_result"
    }
   ],
   "source": [
    "a = tree.DecisionTreeClassifier(splitter = \"random\")\n",
    "model_selection.cross_validate(a, X, y)"
   ]
  },
  {
   "cell_type": "markdown",
   "metadata": {},
   "source": [
    "Ce modèle est meilleur que l'alternatif, la prise en compte des poids dans le fit améliore les performances. "
   ]
  },
  {
   "cell_type": "code",
   "execution_count": 147,
   "metadata": {},
   "outputs": [],
   "source": [
    "vtr = []\n",
    "vte = []\n",
    "rn = range(10,1000,10)\n",
    "for n in rn:\n",
    "    l = [tree.DecisionTreeClassifier(splitter = \"random\", max_depth=1) for i in range(n)]\n",
    "    a = AdaBoostClassif(l)\n",
    "    d = model_selection.cross_validate(a, X, y)\n",
    "    vtr.append(np.mean(d[\"train_score\"]))\n",
    "    vte.append(np.mean(d[\"test_score\"]))"
   ]
  },
  {
   "cell_type": "code",
   "execution_count": 148,
   "metadata": {},
   "outputs": [
    {
     "data": {
      "image/png": "[encoded data removed]",
      "text/plain": [
       "<matplotlib.figure.Figure at 0x206a91374a8>"
      ]
     },
     "metadata": {},
     "output_type": "display_data"
    }
   ],
   "source": [
    "plt.plot(rn, vtr, 'b')\n",
    "plt.plot(rn, vte, 'r')\n",
    "plt.ylabel(\"Score\")\n",
    "plt.xlabel(\"Nb de classifieurs\")\n",
    "plt.show()"
   ]
  },
  {
   "cell_type": "markdown",
   "metadata": {},
   "source": [
    "On voit bien le plateau du score vers les 100 classifieurs en train et 200 en test."
   ]
  },
  {
   "cell_type": "code",
   "execution_count": null,
   "metadata": {
    "collapsed": true
   },
   "outputs": [],
   "source": []
  }
 ],
 "metadata": {
  "kernelspec": {
   "display_name": "Python 3",
   "language": "python",
   "name": "python3"
  },
  "language_info": {
   "codemirror_mode": {
    "name": "ipython",
    "version": 3
   },
   "file_extension": ".py",
   "mimetype": "text/x-python",
   "name": "python",
   "nbconvert_exporter": "python",
   "pygments_lexer": "ipython3",
   "version": "3.6.2"
  }
 },
 "nbformat": 4,
 "nbformat_minor": 2
}
