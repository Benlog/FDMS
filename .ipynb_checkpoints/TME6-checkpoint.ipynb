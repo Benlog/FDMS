{
 "cells": [
  {
   "cell_type": "code",
   "execution_count": 1,
   "metadata": {},
   "outputs": [],
   "source": [
    "import numpy as np\n",
    "import scipy\n",
    "import networkx as nx\n",
    "import matplotlib.pyplot as plt"
   ]
  },
  {
   "cell_type": "code",
   "execution_count": 2,
   "metadata": {},
   "outputs": [],
   "source": [
    "def loadLinks(path):\n",
    "    d = {}\n",
    "    with open(path) as f:\n",
    "        for l in f:\n",
    "            w = l.split()\n",
    "            d[int(w[0])] = [int(i) for i in w[1:]]\n",
    "    return d"
   ]
  },
  {
   "cell_type": "code",
   "execution_count": 3,
   "metadata": {},
   "outputs": [],
   "source": [
    "data = np.loadtxt(\"./recodata/u.data\", int)[:,:3]\n",
    "links = nx.from_dict_of_lists(loadLinks(\"./recodata/u.links\"),create_using=nx.DiGraph())\n",
    "du, dv, _ = data.max(0)"
   ]
  },
  {
   "cell_type": "code",
   "execution_count": null,
   "metadata": {},
   "outputs": [],
   "source": [
    "def colFil(r, u, v, ite = 1, alpha = 0.001, eps = 1e-3, verbose = False):\n",
    "    '''r matrice sparse de la forme rowInd colInd data\n",
    "    u : rowLen(r) * n\n",
    "    v : colLen(r) * m'''\n",
    "    for i in range(ite):\n",
    "        if i%(ite//10) == 0: \n",
    "            print(\"iter :\", i)\n",
    "            if verbose :\n",
    "                print(\"u\", u.mean(0))\n",
    "                print(\"v\", v.mean(0))\n",
    "        for ui, vi, d in r:\n",
    "            ui -= 1\n",
    "            vi -= 1\n",
    "            dist1 = d - u[ui].dot(v[vi])\n",
    "            u[ui] += eps * 2 *(dist1 * v[vi] + alpha * u[ui])\n",
    "            v[vi] += eps * 2 *(dist1 * u[ui] + alpha * v[vi])\n",
    "            if verbose : print(\"u\", u[ui])\n",
    "            if verbose : print(\"v\", v[vi])\n",
    "        lossHisto.append(dist1*dist1)"
   ]
  },
  {
   "cell_type": "code",
   "execution_count": null,
   "metadata": {
    "scrolled": true
   },
   "outputs": [
    {
     "name": "stdout",
     "output_type": "stream",
     "text": [
      "iter : 0\n",
      "iter : 30\n",
      "iter : 60\n",
      "iter : 90\n",
      "iter : 120\n"
     ]
    }
   ],
   "source": [
    "u = np.random.rand(du, 10)\n",
    "v = np.random.rand(dv, 10)\n",
    "lossHisto = []\n",
    "#colFil(data, u, v, 300)\n",
    "colFil(data, u, v, 300)"
   ]
  },
  {
   "cell_type": "code",
   "execution_count": null,
   "metadata": {},
   "outputs": [],
   "source": [
    "plt.plot(lossHisto)\n",
    "plt.ylabel('loss')\n",
    "plt.xlabel('nb batch traited')\n",
    "plt.show()"
   ]
  },
  {
   "cell_type": "code",
   "execution_count": null,
   "metadata": {},
   "outputs": [],
   "source": [
    "r2 = u.dot(v.T)\n",
    "i,j,d = data[50]\n",
    "print(r2[i,j], d)"
   ]
  },
  {
   "cell_type": "markdown",
   "metadata": {},
   "source": [
    "Faire pareil que colFil mais avec une contrainte suplémentaire : minimiser les distance entre certain vecteur de U et une autre matrice Z avec les lien entre l'utilisateur i et j (potentiellement dirigé) t. q. (Ui-Zj)^2 -> 0 "
   ]
  },
  {
   "cell_type": "code",
   "execution_count": null,
   "metadata": {},
   "outputs": [],
   "source": [
    "def colFilRez(r, l, u, v, ite = 1, alpha = 0.001, beta = 0.1, eps = 1e-3, verbose = False):\n",
    "    '''r matrice sparse de la forme rowInd colInd data\n",
    "    u : rowLen(r) * n\n",
    "    v : colLen(r) * m'''\n",
    "    for i in range(ite):\n",
    "        if i%(ite//10) == 0:\n",
    "        #if True :\n",
    "            print(\"iter :\", i)\n",
    "            if verbose :\n",
    "                print(\"u\", u.mean(0))\n",
    "                print(\"v\", v.mean(0))\n",
    "        for ui, vi, d in r:\n",
    "            ui -= 1\n",
    "            vi -= 1\n",
    "            dist1 = d - u[ui].dot(v[vi])\n",
    "            v[vi] += eps * 2 *(dist1 * u[ui] + alpha * v[vi])\n",
    "            if l.has_node(ui) and l.out_degree[ui] != 0:\n",
    "                for zi in l.neighbors(ui):\n",
    "                    zi -= 1\n",
    "                    u[ui] += eps * 2 *(dist1 * v[vi] + alpha * u[ui] + beta * (u[zi] - u[ui]))\n",
    "            else :\n",
    "                u[ui] += eps * 2 *(dist1 * v[vi] + alpha * u[ui])\n",
    "        lossHisto.append(dist1*dist1)"
   ]
  },
  {
   "cell_type": "code",
   "execution_count": null,
   "metadata": {},
   "outputs": [],
   "source": [
    "u = np.random.rand(du, 10)\n",
    "v = np.random.rand(dv, 10)\n",
    "lossHisto = []\n",
    "colFilRez(data, links, u, v, 100)"
   ]
  },
  {
   "cell_type": "code",
   "execution_count": null,
   "metadata": {},
   "outputs": [],
   "source": [
    "plt.plot(lossHisto)\n",
    "plt.ylabel('loss')\n",
    "plt.xlabel('nb batch traited')\n",
    "plt.show()"
   ]
  },
  {
   "cell_type": "code",
   "execution_count": null,
   "metadata": {},
   "outputs": [],
   "source": [
    "def colFilRez2(r, l, u, v, ite = 1, alpha = 0.001, beta = 0.1, eps = 1e-3, verbose = False):\n",
    "    '''r matrice sparse de la forme rowInd colInd data\n",
    "    u : rowLen(r) * n\n",
    "    v : colLen(r) * m'''\n",
    "    for i in range(ite):\n",
    "        if i%(ite//10) == 0:\n",
    "        #if True :\n",
    "            print(\"iter :\", i)\n",
    "            if verbose :\n",
    "                print(\"u\", u.mean(0))\n",
    "                print(\"v\", v.mean(0))\n",
    "        for ui, vi, d in r:\n",
    "            ui -= 1\n",
    "            vi -= 1\n",
    "            dist1 = d - u[ui].dot(v[vi])\n",
    "            v[vi] += eps * 2 *(dist1 * u[ui] + alpha * v[vi])\n",
    "            if l.has_node(ui) and l.out_degree[ui] != 0:\n",
    "                for zi in l.neighbors(ui):\n",
    "                    zi -= 1\n",
    "                    u[ui] += eps * 2 *(dist1 * v[vi] + alpha * u[ui] + beta * (u[zi] - u[ui]))\n",
    "                    u[zi] += eps * 2 *(alpha * u[zi] + beta * (u[zi] - u[ui]))\n",
    "            else :\n",
    "                u[ui] += eps * 2 *(dist1 * v[vi] + alpha * u[ui])\n",
    "        lossHisto.append(dist1*dist1)"
   ]
  },
  {
   "cell_type": "code",
   "execution_count": null,
   "metadata": {},
   "outputs": [],
   "source": [
    "u = np.random.rand(du, 10)\n",
    "v = np.random.rand(dv, 10)\n",
    "lossHisto = []\n",
    "colFilRez2(data, links, u, v, 100)\n",
    "plt.plot(lossHisto)\n",
    "plt.ylabel('loss')\n",
    "plt.xlabel('nb batch traited')\n",
    "plt.show()"
   ]
  },
  {
   "cell_type": "code",
   "execution_count": null,
   "metadata": {},
   "outputs": [],
   "source": [
    "def colFilRez3(r, l, u, v, z, ite = 1, alpha = 0.001, beta = 0.1, eps = 1e-3, verbose = False):\n",
    "    '''r matrice sparse de la forme rowInd colInd data\n",
    "    u : rowLen(r) * n\n",
    "    v : colLen(r) * m'''\n",
    "    for i in range(ite):\n",
    "        if i%(ite//10) == 0:\n",
    "        #if True :\n",
    "            print(\"iter :\", i)\n",
    "            if verbose :\n",
    "                print(\"u\", u.mean(0))\n",
    "                print(\"v\", v.mean(0))\n",
    "        for ui, vi, d in r:\n",
    "            ui -= 1\n",
    "            vi -= 1\n",
    "            dist1 = d - u[ui].dot(v[vi])\n",
    "            v[vi] += eps * 2 *(dist1 * u[ui] + alpha * v[vi])\n",
    "            if l.has_node(ui) and l.out_degree[ui] != 0:\n",
    "                for zi in l.neighbors(ui):\n",
    "                    zi -= 1\n",
    "                    u[ui] += eps * 2 *(dist1 * v[vi] + alpha * u[ui] + beta * (z[zi] - u[ui]))\n",
    "                    z[zi] += eps * 2 *(alpha * z[zi] + beta * (z[zi] - u[ui]))\n",
    "            else :\n",
    "                u[ui] += eps * 2 *(dist1 * v[vi] + alpha * u[ui])\n",
    "        lossHisto.append(dist1*dist1)"
   ]
  },
  {
   "cell_type": "code",
   "execution_count": null,
   "metadata": {},
   "outputs": [],
   "source": [
    "u = np.random.rand(du, 10)\n",
    "v = np.random.rand(dv, 10)\n",
    "z = np.random.rand(dv, 10)\n",
    "lossHisto = []\n",
    "colFilRez3(data, links, u, v, z, 100)\n",
    "plt.plot(lossHisto)\n",
    "plt.ylabel('loss')\n",
    "plt.xlabel('nb batch traited')\n",
    "plt.show()"
   ]
  }
 ],
 "metadata": {
  "kernelspec": {
   "display_name": "Python 3",
   "language": "python",
   "name": "python3"
  },
  "language_info": {
   "codemirror_mode": {
    "name": "ipython",
    "version": 3
   },
   "file_extension": ".py",
   "mimetype": "text/x-python",
   "name": "python",
   "nbconvert_exporter": "python",
   "pygments_lexer": "ipython3",
   "version": "3.6.3"
  }
 },
 "nbformat": 4,
 "nbformat_minor": 2
}
