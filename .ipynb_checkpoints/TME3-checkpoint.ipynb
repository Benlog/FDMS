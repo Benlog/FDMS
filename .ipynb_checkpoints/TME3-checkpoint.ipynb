{
 "cells": [
  {
   "cell_type": "code",
   "execution_count": 1,
   "metadata": {
    "collapsed": true
   },
   "outputs": [],
   "source": [
    "import numpy as np\n",
    "from matplotlib import pyplot as plt\n",
    "%matplotlib inline\n",
    "import sklearn as sk"
   ]
  },
  {
   "cell_type": "code",
   "execution_count": 38,
   "metadata": {},
   "outputs": [],
   "source": [
    "from sklearn.base import BaseEstimator,ClassifierMixin\n",
    "class linear(BaseEstimator,ClassifierMixin):\n",
    "    '''Classifieur linéaire de R^n -> R'''\n",
    "    def __init__(self, lam = 0.1, eps = 0.00001, dec = 1, ite = 1000, rand = np.random.RandomState()):\n",
    "        self.lam = lam\n",
    "        self.eps = eps\n",
    "        self.dec = dec\n",
    "        self.ite = ite\n",
    "        self.rand = rand\n",
    "        self.ini = False\n",
    "        \n",
    "    def init(self, n):\n",
    "        self.param = self.rand.rand(n+1)\n",
    "        self.gradHisto = np.zeros((1, n+1))\n",
    "        self.ini = True\n",
    "    \n",
    "    def fit(self, x, y, debug = False):\n",
    "        if len(x.shape) == 1 :\n",
    "            x = x.reshape((1,x.size))\n",
    "        if self.ini == False :\n",
    "            self.init(x.shape[1])\n",
    "        x = np.concatenate((np.ones((x.shape[0],1)), x),1)\n",
    "        '''ajout du biais'''\n",
    "        for it in range(self.ite):\n",
    "            n = self.rand.randint(0,x.shape[0])\n",
    "            delta = -2 * x[n] * y[n] + np.dot((np.dot(2 * x[n].T, x[n])), self.param).T + self.lam * np.sign(self.param)\n",
    "            self.gradHisto = np.concatenate((self.gradHisto, delta.reshape((1, -1))))\n",
    "            param2 = self.param - self.eps * delta\n",
    "            self.eps = self.eps * self.dec\n",
    "            if debug and it%(self.ite//10) == 0 :\n",
    "                print(np.mean((y-np.dot(x, self.param)) * (y-np.dot(x, self.param))))\n",
    "            for i in range(x.shape[1]):\n",
    "                if (self.param[i] * param2[i]) < 0:\n",
    "                    self.param[i] = 0\n",
    "                else :\n",
    "                    self.param[i] = param2[i]            \n",
    "                \n",
    "    def predict(self, x):\n",
    "        if len(x.shape) == 1 :\n",
    "            x = x.reshape((1,x.size))\n",
    "        if not self.ini:\n",
    "            self.init(x.shape[1])\n",
    "        x = np.concatenate((np.ones((x.shape[0],1)), x),1)\n",
    "        return np.rint(np.dot(x, self.param))"
   ]
  },
  {
   "cell_type": "code",
   "execution_count": 39,
   "metadata": {},
   "outputs": [],
   "source": [
    "from sklearn import datasets\n",
    "from sklearn import metrics\n",
    "from sklearn import cross_validation\n",
    "iris = datasets.load_iris()\n",
    "X = iris.data\n",
    "y = iris.target"
   ]
  },
  {
   "cell_type": "code",
   "execution_count": 40,
   "metadata": {},
   "outputs": [
    {
     "name": "stdout",
     "output_type": "stream",
     "text": [
      "85.6619915051\n",
      "0.385081457066\n",
      "0.384683424269\n",
      "0.384595719336\n",
      "0.390157080446\n",
      "0.382859578729\n",
      "0.429476642142\n",
      "0.381143832985\n",
      "0.38192734701\n",
      "0.380155118081\n"
     ]
    }
   ],
   "source": [
    "c = linear(0, 0.0001, 1, 10000)\n",
    "c.fit(X, y, True)"
   ]
  },
  {
   "cell_type": "code",
   "execution_count": 41,
   "metadata": {},
   "outputs": [
    {
     "name": "stdout",
     "output_type": "stream",
     "text": [
      "[ 1.  1.  1.  1.  1.  1.  1.  1.  1.  1.  1.  1.  1.  1.  1.  1.  1.  1.\n",
      "  1.  1.  1.  1.  1.  1.  1.  1.  1.  1.  1.  1.  1.  1.  1.  1.  1.  1.\n",
      "  1.  1.  1.  1.  1.  1.  1.  1.  1.  1.  1.  1.  1.  1.  1.  1.  1.  1.\n",
      "  1.  1.  1.  1.  1.  1.  1.  1.  1.  1.  1.  1.  1.  1.  1.  1.  1.  1.\n",
      "  1.  1.  1.  1.  1.  1.  1.  1.  1.  1.  1.  1.  1.  1.  1.  1.  1.  1.\n",
      "  1.  1.  1.  1.  1.  1.  1.  1.  1.  1.  1.  1.  1.  1.  1.  2.  1.  2.\n",
      "  1.  2.  1.  1.  1.  1.  1.  1.  1.  2.  2.  1.  1.  1.  2.  1.  1.  2.\n",
      "  1.  1.  1.  1.  2.  2.  1.  1.  1.  2.  1.  1.  1.  1.  1.  1.  1.  1.\n",
      "  1.  1.  1.  1.  1.  1.] [0 0 0 0 0 0 0 0 0 0 0 0 0 0 0 0 0 0 0 0 0 0 0 0 0 0 0 0 0 0 0 0 0 0 0 0 0\n",
      " 0 0 0 0 0 0 0 0 0 0 0 0 0 1 1 1 1 1 1 1 1 1 1 1 1 1 1 1 1 1 1 1 1 1 1 1 1\n",
      " 1 1 1 1 1 1 1 1 1 1 1 1 1 1 1 1 1 1 1 1 1 1 1 1 1 1 2 2 2 2 2 2 2 2 2 2 2\n",
      " 2 2 2 2 2 2 2 2 2 2 2 2 2 2 2 2 2 2 2 2 2 2 2 2 2 2 2 2 2 2 2 2 2 2 2 2 2\n",
      " 2 2]\n"
     ]
    }
   ],
   "source": [
    "print(c.predict(X), y)"
   ]
  },
  {
   "cell_type": "code",
   "execution_count": 6,
   "metadata": {},
   "outputs": [
    {
     "data": {
      "text/plain": [
       "array([[ -1.83388351,  -9.58763794,  -4.60344836,  -9.50437096,\n",
       "         -3.80409532],\n",
       "       [  1.07517778,   6.74307888,   3.07122648,   5.41013784,\n",
       "          1.88828188],\n",
       "       [ -0.67568208,  -7.95122659,  -4.90414415,  -7.67251691,\n",
       "         -4.16166388],\n",
       "       [ -1.60739843,  -9.33648372,  -3.51905408, -10.29394444,\n",
       "         -1.35145552],\n",
       "       [  0.20404223,   1.86519815,  -0.47707541,   2.18279853,\n",
       "          0.69228993],\n",
       "       [ -0.55226821,  -9.12398493,  -2.08546667,  -6.93264038,\n",
       "         -3.11879622],\n",
       "       [  0.06694051,   0.67034082,   1.55047112,   1.52697766,\n",
       "          0.67434215],\n",
       "       [ -1.87331395,  -9.35524995,  -3.8961765 ,  -9.18502635,\n",
       "         -4.22707712],\n",
       "       [ -0.24407717,  -7.11495723,   0.34443245,  -8.50794691,\n",
       "         -2.51501467]])"
      ]
     },
     "execution_count": 6,
     "metadata": {},
     "output_type": "execute_result"
    }
   ],
   "source": [
    "c.gradHisto[-10:-1]"
   ]
  },
  {
   "cell_type": "code",
   "execution_count": 7,
   "metadata": {},
   "outputs": [
    {
     "data": {
      "text/plain": [
       "array([ 0.01565378,  0.09918137,  0.04474534,  0.08022998,  0.02807027])"
      ]
     },
     "execution_count": 7,
     "metadata": {},
     "output_type": "execute_result"
    }
   ],
   "source": [
    "c.param"
   ]
  },
  {
   "cell_type": "code",
   "execution_count": 8,
   "metadata": {},
   "outputs": [
    {
     "data": {
      "text/plain": [
       "9.990004997839524e-05"
      ]
     },
     "execution_count": 8,
     "metadata": {},
     "output_type": "execute_result"
    }
   ],
   "source": [
    "c.eps"
   ]
  },
  {
   "cell_type": "code",
   "execution_count": 9,
   "metadata": {},
   "outputs": [
    {
     "data": {
      "text/plain": [
       "array([ 0.33333333,  0.4       ,  0.36666667,  0.36666667,  0.33333333])"
      ]
     },
     "execution_count": 9,
     "metadata": {},
     "output_type": "execute_result"
    }
   ],
   "source": [
    "c = linear(0, 0.00001, 0.9999999, 10000)\n",
    "cross_validation.cross_val_score(c, X, y, cv=5, scoring=\"accuracy\")"
   ]
  },
  {
   "cell_type": "markdown",
   "metadata": {
    "collapsed": true
   },
   "source": [
    "Bon l'algo converge mais les performances sont très moyenne, peut être parce que les données ne sont pas linéairement séparable mais je penche plutôt sur mon algo."
   ]
  },
  {
   "cell_type": "code",
   "execution_count": 10,
   "metadata": {},
   "outputs": [
    {
     "name": "stdout",
     "output_type": "stream",
     "text": [
      "0.36\n",
      "0.353333333333\n",
      "0.346666666667\n",
      "0.34\n",
      "0.333333333333\n",
      "0.333333333333\n",
      "0.333333333333\n",
      "0.333333333333\n",
      "0.333333333333\n",
      "0.333333333333\n",
      "0.333333333333\n"
     ]
    }
   ],
   "source": [
    "for i in np.arange(0,1.1,0.1):\n",
    "    c = linear(i, 0.00001, 0.9999999, 10000)\n",
    "    print(np.mean(cross_validation.cross_val_score(c, X, y, cv=5, scoring=\"accuracy\")))"
   ]
  },
  {
   "cell_type": "markdown",
   "metadata": {},
   "source": [
    "On peut voir que les performances diminuent nettement avec l'augmentation de lambda, le modèle préférant limiter la taille de ses paramètres que les erreurs."
   ]
  },
  {
   "cell_type": "code",
   "execution_count": 11,
   "metadata": {},
   "outputs": [],
   "source": [
    "a = []\n",
    "s = []\n",
    "for i in np.arange(0,1.1,0.1):\n",
    "    c = linear(i, 0.00001, 0.9999999, 10000)\n",
    "    a.append(np.mean(cross_validation.cross_val_score(c, X, y, cv=5, scoring=\"accuracy\")))\n",
    "    '''cross_validation fais une copie du module, on est obligé de faire le fit nous même'''\n",
    "    c.fit(X, y)\n",
    "    s.append(c.param[c.param == 0].size)"
   ]
  },
  {
   "cell_type": "code",
   "execution_count": 17,
   "metadata": {},
   "outputs": [
    {
     "data": {
      "image/png": "[encoded data removed]",
      "text/plain": [
       "<matplotlib.figure.Figure at 0x1a936f73518>"
      ]
     },
     "metadata": {},
     "output_type": "display_data"
    }
   ],
   "source": [
    "plt.plot(a,s)\n",
    "plt.show()"
   ]
  },
  {
   "cell_type": "code",
   "execution_count": 18,
   "metadata": {},
   "outputs": [
    {
     "data": {
      "text/plain": [
       "array([ 0.0075118 ,  0.08994211,  0.0365363 ,  0.07068901,  0.01951096])"
      ]
     },
     "execution_count": 18,
     "metadata": {},
     "output_type": "execute_result"
    }
   ],
   "source": [
    "c.param"
   ]
  },
  {
   "cell_type": "markdown",
   "metadata": {},
   "source": [
    "L'algorithme semble ne pas faire changer le signe des paramètres, il ne valent donc jamais 0, ce qui est étonant."
   ]
  },
  {
   "cell_type": "code",
   "execution_count": null,
   "metadata": {
    "collapsed": true
   },
   "outputs": [],
   "source": []
  }
 ],
 "metadata": {
  "kernelspec": {
   "display_name": "Python 3",
   "language": "python",
   "name": "python3"
  },
  "language_info": {
   "codemirror_mode": {
    "name": "ipython",
    "version": 3
   },
   "file_extension": ".py",
   "mimetype": "text/x-python",
   "name": "python",
   "nbconvert_exporter": "python",
   "pygments_lexer": "ipython3",
   "version": "3.6.2"
  }
 },
 "nbformat": 4,
 "nbformat_minor": 2
}
