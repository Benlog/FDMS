{
 "cells": [
  {
   "cell_type": "code",
   "execution_count": 4,
   "metadata": {
    "collapsed": true
   },
   "outputs": [],
   "source": [
    "import numpy as np\n",
    "from matplotlib import pyplot as plt\n",
    "%matplotlib inline\n",
    "import sklearn as sk"
   ]
  },
  {
   "cell_type": "code",
   "execution_count": 77,
   "metadata": {
    "collapsed": true
   },
   "outputs": [],
   "source": [
    "from sklearn.base import BaseEstimator,ClassifierMixin\n",
    "class linear(BaseEstimator,ClassifierMixin):\n",
    "    '''Classifieur linéaire de R^n -> R'''\n",
    "    def __init__(self, lam = 0.1, eps = 0.001, dec = 1, ite = 1000, rand = np.random.RandomState()):\n",
    "        self.lam = lam\n",
    "        self.eps = eps\n",
    "        self.dec = dec\n",
    "        self.ite = ite\n",
    "        self.rand = rand\n",
    "        self.ini = False\n",
    "        \n",
    "    def init(self, n):\n",
    "        self.param = self.rand.rand(n+1) *2 -1\n",
    "        self.gradHisto = np.zeros((1, n+1))\n",
    "        self.ini = True\n",
    "    \n",
    "    def fit(self, x, y, debug = False):\n",
    "        if len(x.shape) == 1 :\n",
    "            x = x.reshape((1,x.size))\n",
    "        if self.ini == False :\n",
    "            self.init(x.shape[1])\n",
    "        x = np.concatenate((np.ones((x.shape[0],1)), x),1)\n",
    "        '''ajout du biais'''\n",
    "        for it in range(self.ite):\n",
    "            n = self.rand.randint(0,x.shape[0])\n",
    "            #delta = -2 * x[n] * y[n] + np.dot((np.dot(2 * x[n].T, x[n])), self.param).T + self.lam * np.sign(self.param)\n",
    "            delta = -2 * x[n] * y[n] + x[n]*2*np.dot(x[n],self.param) + self.lam * np.sign(self.param)\n",
    "            self.gradHisto = np.concatenate((self.gradHisto, delta.reshape((1, -1))))\n",
    "            param2 = self.param - self.eps * delta\n",
    "            '''self.param = self.param - self.eps * delta'''\n",
    "            self.eps = self.eps * self.dec\n",
    "            if debug and it%(self.ite//10) == 0 :\n",
    "                print(np.mean((y-np.dot(x, self.param)) * (y-np.dot(x, self.param))))\n",
    "            for i in range(x.shape[1]):\n",
    "                if (self.param[i] * param2[i]) < 0:\n",
    "                    self.param[i] = 0\n",
    "                else :\n",
    "                    self.param[i] = param2[i]         \n",
    "                \n",
    "    def predict(self, x):\n",
    "        if len(x.shape) == 1 :\n",
    "            x = x.reshape((1,x.size))\n",
    "        if not self.ini:\n",
    "            self.init(x.shape[1])\n",
    "        x = np.concatenate((np.ones((x.shape[0],1)), x),1)\n",
    "        return np.rint(np.dot(x, self.param))"
   ]
  },
  {
   "cell_type": "code",
   "execution_count": 78,
   "metadata": {
    "collapsed": true
   },
   "outputs": [],
   "source": [
    "from sklearn import datasets\n",
    "from sklearn import metrics\n",
    "from sklearn import cross_validation\n",
    "iris = datasets.load_iris()\n",
    "X = iris.data\n",
    "y = iris.target"
   ]
  },
  {
   "cell_type": "code",
   "execution_count": 111,
   "metadata": {
    "scrolled": true
   },
   "outputs": [
    {
     "name": "stdout",
     "output_type": "stream",
     "text": [
      "0.687020247513\n",
      "0.109179424385\n",
      "0.0922460988456\n",
      "0.0811985420925\n",
      "0.0729734217549\n",
      "0.0678061447033\n",
      "0.0684885019801\n",
      "0.0576916036068\n",
      "0.0671194268498\n",
      "0.0534263366108\n"
     ]
    }
   ],
   "source": [
    "c = linear(0, 0.001, 1, 10000)\n",
    "c.fit(X, y, True)"
   ]
  },
  {
   "cell_type": "code",
   "execution_count": 112,
   "metadata": {},
   "outputs": [
    {
     "name": "stdout",
     "output_type": "stream",
     "text": [
      "[ 0.  0.  0.  0.  0.  0.  0.  0.  0.  0. -0.  0.  0.  0. -0. -0. -0.  0.\n",
      "  0.  0.  0.  0. -0.  0.  0.  0.  0.  0.  0.  0.  0.  0. -0. -0.  0. -0.\n",
      " -0.  0.  0.  0.  0.  0.  0.  0.  0.  0.  0.  0.  0.  0.  1.  1.  2.  1.\n",
      "  1.  1.  2.  1.  1.  1.  1.  1.  1.  2.  1.  1.  2.  1.  2.  1.  2.  1.\n",
      "  2.  1.  1.  1.  1.  2.  2.  1.  1.  1.  1.  2.  2.  1.  1.  1.  1.  1.\n",
      "  1.  1.  1.  1.  1.  1.  1.  1.  1.  1.  2.  2.  2.  2.  2.  2.  2.  2.\n",
      "  2.  2.  2.  2.  2.  2.  2.  2.  2.  2.  2.  2.  2.  2.  2.  2.  2.  2.\n",
      "  2.  2.  2.  2.  2.  2.  2.  2.  2.  2.  2.  2.  2.  2.  2.  2.  2.  2.\n",
      "  2.  2.  2.  2.  2.  2.] [0 0 0 0 0 0 0 0 0 0 0 0 0 0 0 0 0 0 0 0 0 0 0 0 0 0 0 0 0 0 0 0 0 0 0 0 0\n",
      " 0 0 0 0 0 0 0 0 0 0 0 0 0 1 1 1 1 1 1 1 1 1 1 1 1 1 1 1 1 1 1 1 1 1 1 1 1\n",
      " 1 1 1 1 1 1 1 1 1 1 1 1 1 1 1 1 1 1 1 1 1 1 1 1 1 1 2 2 2 2 2 2 2 2 2 2 2\n",
      " 2 2 2 2 2 2 2 2 2 2 2 2 2 2 2 2 2 2 2 2 2 2 2 2 2 2 2 2 2 2 2 2 2 2 2 2 2\n",
      " 2 2]\n"
     ]
    }
   ],
   "source": [
    "print(c.predict(X), y)"
   ]
  },
  {
   "cell_type": "code",
   "execution_count": 113,
   "metadata": {},
   "outputs": [
    {
     "data": {
      "text/plain": [
       "array([[ 0.73847865,  4.43087189,  2.14158808,  3.32315392,  1.10771797],\n",
       "       [-0.23488359, -1.47976659, -0.79860419, -1.31534808, -0.5637206 ],\n",
       "       [-0.16821693, -0.87472805, -0.58875926, -0.2523254 , -0.03364339],\n",
       "       [-0.35385551, -1.84004864, -1.45080758, -0.53078326, -0.03538555],\n",
       "       [-0.21170169, -1.35489084, -0.59276474, -1.18552949, -0.44457356],\n",
       "       [-0.61675083, -3.63882992, -1.8502525 , -3.14542925, -1.1101515 ],\n",
       "       [-0.12733679, -0.94229226, -0.35654302, -0.77675443, -0.24193991],\n",
       "       [-0.50549986, -3.48794906, -1.56704958, -2.57804931, -1.16264969],\n",
       "       [-0.18660806, -0.85839708, -0.67178902, -0.18660806, -0.03732161]])"
      ]
     },
     "execution_count": 113,
     "metadata": {},
     "output_type": "execute_result"
    }
   ],
   "source": [
    "c.gradHisto[-10:-1]"
   ]
  },
  {
   "cell_type": "code",
   "execution_count": 114,
   "metadata": {},
   "outputs": [
    {
     "data": {
      "text/plain": [
       "array([ 0.52076474, -0.13820785, -0.10822612,  0.36866622,  0.31012005])"
      ]
     },
     "execution_count": 114,
     "metadata": {},
     "output_type": "execute_result"
    }
   ],
   "source": [
    "c.param"
   ]
  },
  {
   "cell_type": "code",
   "execution_count": 115,
   "metadata": {},
   "outputs": [
    {
     "data": {
      "text/plain": [
       "0.001"
      ]
     },
     "execution_count": 115,
     "metadata": {},
     "output_type": "execute_result"
    }
   ],
   "source": [
    "c.eps"
   ]
  },
  {
   "cell_type": "code",
   "execution_count": 116,
   "metadata": {},
   "outputs": [
    {
     "data": {
      "text/plain": [
       "array([ 0.93333333,  0.93333333,  0.93333333,  0.86666667,  0.96666667])"
      ]
     },
     "execution_count": 116,
     "metadata": {},
     "output_type": "execute_result"
    }
   ],
   "source": [
    "c = linear(0, 0.001, 0.999999, 10000)\n",
    "cross_validation.cross_val_score(c, X, y, cv=5, scoring=\"accuracy\")"
   ]
  },
  {
   "cell_type": "markdown",
   "metadata": {
    "collapsed": true
   },
   "source": [
    "Bon l'algo converge mais les performances sont très moyenne, peut être parce que les données ne sont pas linéairement séparable mais je penche plutôt sur mon algo."
   ]
  },
  {
   "cell_type": "code",
   "execution_count": 117,
   "metadata": {},
   "outputs": [
    {
     "name": "stdout",
     "output_type": "stream",
     "text": [
      "0.946666666667\n",
      "0.946666666667\n",
      "0.906666666667\n",
      "0.886666666667\n",
      "0.866666666667\n",
      "0.86\n",
      "0.853333333333\n",
      "0.833333333333\n",
      "0.826666666667\n",
      "0.793333333333\n",
      "0.786666666667\n"
     ]
    }
   ],
   "source": [
    "for i in np.arange(0,1.1,0.1):\n",
    "    c = linear(i, 0.001, 0.999999, 10000)\n",
    "    print(np.mean(cross_validation.cross_val_score(c, X, y, cv=5, scoring=\"accuracy\")))"
   ]
  },
  {
   "cell_type": "markdown",
   "metadata": {},
   "source": [
    "On peut voir que les performances diminuent nettement avec l'augmentation de lambda, le modèle préférant limiter la taille de ses paramètres que les erreurs."
   ]
  },
  {
   "cell_type": "code",
   "execution_count": 130,
   "metadata": {
    "collapsed": true
   },
   "outputs": [],
   "source": [
    "a = []\n",
    "s = []\n",
    "for i in np.arange(0,10,1):\n",
    "    c = linear(i, 0.001, 0.9999999, 10000)\n",
    "    a.append(np.mean(cross_validation.cross_val_score(c, X, y, cv=5, scoring=\"accuracy\")))\n",
    "    '''cross_validation fais une copie du module, on est obligé de faire le fit nous même'''\n",
    "    c.fit(X, y)\n",
    "    s.append(c.param[c.param == 0].size)"
   ]
  },
  {
   "cell_type": "code",
   "execution_count": 131,
   "metadata": {},
   "outputs": [
    {
     "data": {
      "image/png": "[encoded data removed]",
      "text/plain": [
       "<matplotlib.figure.Figure at 0x7f22226f7c18>"
      ]
     },
     "metadata": {},
     "output_type": "display_data"
    }
   ],
   "source": [
    "plt.scatter(a,s)\n",
    "plt.ylabel(\"Nb de 0\")\n",
    "plt.xlabel(\"score\")\n",
    "plt.show()"
   ]
  },
  {
   "cell_type": "code",
   "execution_count": 132,
   "metadata": {},
   "outputs": [
    {
     "name": "stdout",
     "output_type": "stream",
     "text": [
      "13.9008476325\n",
      "1.67145059056\n",
      "1.39373826139\n",
      "1.67132147955\n",
      "1.39185806394\n",
      "1.38158482891\n",
      "1.38431183625\n",
      "1.67644135316\n",
      "1.53807398685\n",
      "1.55261211478\n"
     ]
    },
    {
     "data": {
      "text/plain": [
       "array([ 0.        ,  0.02607279,  0.        ,  0.        ,  0.        ])"
      ]
     },
     "execution_count": 132,
     "metadata": {},
     "output_type": "execute_result"
    }
   ],
   "source": [
    "c = linear(100, 0.001, 1, 10000)\n",
    "c.fit(X, y, True)\n",
    "c.param"
   ]
  },
  {
   "cell_type": "code",
   "execution_count": null,
   "metadata": {
    "collapsed": true
   },
   "outputs": [],
   "source": []
  }
 ],
 "metadata": {
  "kernelspec": {
   "display_name": "Python 3",
   "language": "python",
   "name": "python3"
  },
  "language_info": {
   "codemirror_mode": {
    "name": "ipython",
    "version": 3
   },
   "file_extension": ".py",
   "mimetype": "text/x-python",
   "name": "python",
   "nbconvert_exporter": "python",
   "pygments_lexer": "ipython3",
   "version": "3.6.2"
  }
 },
 "nbformat": 4,
 "nbformat_minor": 2
}
