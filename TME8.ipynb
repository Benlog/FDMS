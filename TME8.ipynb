{
 "cells": [
  {
   "cell_type": "markdown",
   "metadata": {
    "nbpresent": {
     "id": "bd35decc-531e-4294-a890-4b83d5dab322"
    }
   },
   "source": [
    "# FDMS - TME 4\n",
    "\n",
    "### Imports"
   ]
  },
  {
   "cell_type": "code",
   "execution_count": 179,
   "metadata": {
    "collapsed": true,
    "nbpresent": {
     "id": "db2b699e-5f65-4cca-9ca3-2b0e8d003522"
    }
   },
   "outputs": [],
   "source": [
    "import pandas            as pd\n",
    "import numpy             as np\n",
    "import matplotlib.pyplot as plt"
   ]
  },
  {
   "cell_type": "code",
   "execution_count": 190,
   "metadata": {},
   "outputs": [],
   "source": [
    "features = [\"f\" + str(i) for i in range(5)]\n",
    "choices  = [\"c\" + str(i) for i in range(10)]"
   ]
  },
  {
   "cell_type": "code",
   "execution_count": 22,
   "metadata": {
    "nbpresent": {
     "id": "7a21b3b2-61b4-445d-990e-0d68d0f5663d"
    },
    "scrolled": true
   },
   "outputs": [],
   "source": [
    "data = pd.read_csv(\"CTR.txt\", \n",
    "            delimiter=\";\", \n",
    "            names=[\"index\"] + features + choices,\n",
    "            index_col=0)"
   ]
  },
  {
   "cell_type": "code",
   "execution_count": 192,
   "metadata": {},
   "outputs": [
    {
     "data": {
      "text/html": [
       "<div>\n",
       "<style>\n",
       "    .dataframe thead tr:only-child th {\n",
       "        text-align: right;\n",
       "    }\n",
       "\n",
       "    .dataframe thead th {\n",
       "        text-align: left;\n",
       "    }\n",
       "\n",
       "    .dataframe tbody tr th {\n",
       "        vertical-align: top;\n",
       "    }\n",
       "</style>\n",
       "<table border=\"1\" class=\"dataframe\">\n",
       "  <thead>\n",
       "    <tr style=\"text-align: right;\">\n",
       "      <th></th>\n",
       "      <th>f0</th>\n",
       "      <th>f1</th>\n",
       "      <th>f2</th>\n",
       "      <th>f3</th>\n",
       "      <th>f4</th>\n",
       "    </tr>\n",
       "    <tr>\n",
       "      <th>index</th>\n",
       "      <th></th>\n",
       "      <th></th>\n",
       "      <th></th>\n",
       "      <th></th>\n",
       "      <th></th>\n",
       "    </tr>\n",
       "  </thead>\n",
       "  <tbody>\n",
       "    <tr>\n",
       "      <th>3723</th>\n",
       "      <td>0.602076</td>\n",
       "      <td>0.977880</td>\n",
       "      <td>0.251563</td>\n",
       "      <td>0.653219</td>\n",
       "      <td>0.354012</td>\n",
       "    </tr>\n",
       "    <tr>\n",
       "      <th>2462</th>\n",
       "      <td>0.067320</td>\n",
       "      <td>0.884873</td>\n",
       "      <td>0.325171</td>\n",
       "      <td>0.836792</td>\n",
       "      <td>0.298278</td>\n",
       "    </tr>\n",
       "    <tr>\n",
       "      <th>3895</th>\n",
       "      <td>0.895563</td>\n",
       "      <td>0.030296</td>\n",
       "      <td>0.211242</td>\n",
       "      <td>0.997241</td>\n",
       "      <td>0.227947</td>\n",
       "    </tr>\n",
       "  </tbody>\n",
       "</table>\n",
       "</div>"
      ],
      "text/plain": [
       "             f0        f1        f2        f3        f4\n",
       "index                                                  \n",
       "3723   0.602076  0.977880  0.251563  0.653219  0.354012\n",
       "2462   0.067320  0.884873  0.325171  0.836792  0.298278\n",
       "3895   0.895563  0.030296  0.211242  0.997241  0.227947"
      ]
     },
     "execution_count": 192,
     "metadata": {},
     "output_type": "execute_result"
    }
   ],
   "source": [
    "# Représentation des articles\n",
    "description = data[features]\n",
    "description.sample(3)"
   ]
  },
  {
   "cell_type": "code",
   "execution_count": 28,
   "metadata": {},
   "outputs": [
    {
     "data": {
      "text/html": [
       "<div>\n",
       "<style>\n",
       "    .dataframe thead tr:only-child th {\n",
       "        text-align: right;\n",
       "    }\n",
       "\n",
       "    .dataframe thead th {\n",
       "        text-align: left;\n",
       "    }\n",
       "\n",
       "    .dataframe tbody tr th {\n",
       "        vertical-align: top;\n",
       "    }\n",
       "</style>\n",
       "<table border=\"1\" class=\"dataframe\">\n",
       "  <thead>\n",
       "    <tr style=\"text-align: right;\">\n",
       "      <th></th>\n",
       "      <th>c0</th>\n",
       "      <th>c1</th>\n",
       "      <th>c2</th>\n",
       "      <th>c3</th>\n",
       "      <th>c4</th>\n",
       "      <th>c5</th>\n",
       "      <th>c6</th>\n",
       "      <th>c7</th>\n",
       "      <th>c8</th>\n",
       "      <th>c9</th>\n",
       "    </tr>\n",
       "    <tr>\n",
       "      <th>index</th>\n",
       "      <th></th>\n",
       "      <th></th>\n",
       "      <th></th>\n",
       "      <th></th>\n",
       "      <th></th>\n",
       "      <th></th>\n",
       "      <th></th>\n",
       "      <th></th>\n",
       "      <th></th>\n",
       "      <th></th>\n",
       "    </tr>\n",
       "  </thead>\n",
       "  <tbody>\n",
       "    <tr>\n",
       "      <th>4288</th>\n",
       "      <td>0.000000</td>\n",
       "      <td>0.014984</td>\n",
       "      <td>0.0</td>\n",
       "      <td>0.309633</td>\n",
       "      <td>0.0</td>\n",
       "      <td>0.0</td>\n",
       "      <td>0.000000</td>\n",
       "      <td>0.118136</td>\n",
       "      <td>0.0</td>\n",
       "      <td>0.206772</td>\n",
       "    </tr>\n",
       "    <tr>\n",
       "      <th>3454</th>\n",
       "      <td>0.032343</td>\n",
       "      <td>0.063892</td>\n",
       "      <td>0.0</td>\n",
       "      <td>0.299404</td>\n",
       "      <td>0.0</td>\n",
       "      <td>0.0</td>\n",
       "      <td>0.022247</td>\n",
       "      <td>0.130235</td>\n",
       "      <td>0.0</td>\n",
       "      <td>0.261285</td>\n",
       "    </tr>\n",
       "    <tr>\n",
       "      <th>671</th>\n",
       "      <td>0.000000</td>\n",
       "      <td>0.027467</td>\n",
       "      <td>0.0</td>\n",
       "      <td>0.235185</td>\n",
       "      <td>0.0</td>\n",
       "      <td>0.0</td>\n",
       "      <td>0.030481</td>\n",
       "      <td>0.000000</td>\n",
       "      <td>0.0</td>\n",
       "      <td>0.286142</td>\n",
       "    </tr>\n",
       "  </tbody>\n",
       "</table>\n",
       "</div>"
      ],
      "text/plain": [
       "             c0        c1   c2        c3   c4   c5        c6        c7   c8  \\\n",
       "index                                                                         \n",
       "4288   0.000000  0.014984  0.0  0.309633  0.0  0.0  0.000000  0.118136  0.0   \n",
       "3454   0.032343  0.063892  0.0  0.299404  0.0  0.0  0.022247  0.130235  0.0   \n",
       "671    0.000000  0.027467  0.0  0.235185  0.0  0.0  0.030481  0.000000  0.0   \n",
       "\n",
       "             c9  \n",
       "index            \n",
       "4288   0.206772  \n",
       "3454   0.261285  \n",
       "671    0.286142  "
      ]
     },
     "execution_count": 28,
     "metadata": {},
     "output_type": "execute_result"
    }
   ],
   "source": [
    "# Nombre de clics selon le choix de l'annonceur (récompenses)\n",
    "clics_rates = data[choices]\n",
    "clics_rates.sample(3)"
   ]
  },
  {
   "cell_type": "markdown",
   "metadata": {
    "nbpresent": {
     "id": "7925ec3b-a318-412b-abf4-5d3d5e8306a6"
    }
   },
   "source": [
    "### Baselines"
   ]
  },
  {
   "cell_type": "markdown",
   "metadata": {},
   "source": [
    "On définit une classe abstraite Bandit qui encapsulera les différents algorithmes que nous expérimenterons."
   ]
  },
  {
   "cell_type": "code",
   "execution_count": 578,
   "metadata": {
    "collapsed": true
   },
   "outputs": [],
   "source": [
    "class Bandit(object):\n",
    "    \n",
    "    def __init__(self, choices):\n",
    "        '''\n",
    "            Initializes a simple bandit object.\n",
    "            \n",
    "            :param choices: A list of avaiable choices for the bandit\n",
    "        '''\n",
    "        \n",
    "        self.choix = choices               # Label of choices\n",
    "        self.state = [0 for c in choices]  # Number of occurences each choices has ben chosen\n",
    "        self.score = [0 for c in choices]  # Reward gained by each choice\n",
    "        self.lastp = None                  # Last prediction made by the bandit\n",
    "        self.trace = []                    # History of choices (per iteration)\n",
    "        self.t     = 0                     # Current iteration\n",
    "\n",
    "        \n",
    "    def compute(self):\n",
    "        '''\n",
    "            Compute a prediction of the bandit, based on the internally stored state.\n",
    "            \n",
    "            Contains the main logic of the Bandit algorith.\n",
    "            \n",
    "            :return: The selected choice\n",
    "        '''\n",
    "        raise NotImplementedError\n",
    "        \n",
    "        \n",
    "    def predict(self, context=None):\n",
    "        '''\n",
    "            Apply the next prediction of the bandit\n",
    "            \n",
    "            :param row: Used of cheating bandits only\n",
    "            :return: The selected choice\n",
    "        '''\n",
    "        \n",
    "        if context is not None:\n",
    "            self.context = context\n",
    "        self.lastp = self.compute()\n",
    "        self.state[self.lastp] += 1\n",
    "        self.t += 1\n",
    "        return self.choix[self.lastp]\n",
    "    \n",
    "    \n",
    "    def reward(self, value):\n",
    "        '''\n",
    "            :param value: the reward value\n",
    "            :type value: float\n",
    "        '''\n",
    "        if self.lastp is not None:\n",
    "            self.score[self.lastp] += value\n",
    "            self.trace.append([self.choix[self.lastp], value])\n",
    "            self.lastp = None\n",
    "    \n",
    "    \n",
    "class Rewarder(object):\n",
    "    \n",
    "    def __init__(self, context, rewards, bandits):\n",
    "        self.context = context\n",
    "        self.rewards = rewards\n",
    "        self.bandits = bandits\n",
    "        \n",
    "    def run(self):\n",
    "        for i in range(len(self.context.index)):\n",
    "            for bandit in self.bandits:\n",
    "                prediction = bandit.predict(self.context[i:i+1])\n",
    "                bandit.reward(self.rewards.iloc[i].loc[prediction])\n",
    "                \n",
    "    def get(self):\n",
    "        g = []\n",
    "        for b in self.bandits:\n",
    "            l = []\n",
    "            n = 0\n",
    "            c = 0\n",
    "            for i in b.trace:\n",
    "                n+=1\n",
    "                c+=i[1]\n",
    "                l.append(c/n)\n",
    "            g.append(l)\n",
    "        return np.array(g)"
   ]
  },
  {
   "cell_type": "markdown",
   "metadata": {},
   "source": [
    "On implémente trois algorithmes de base qui serviront de témoins : un bandit aléatoire, un bandit tricheur qui choisit toujours le choix ayant le meilleur rendement moyen, et un bandit omniscient qui choisit le meilleur choix à chaque fois.\n",
    "Les algorithmes expérimentés par la suite devraient pouvoir tendre vers les résultats du bandit tricheur."
   ]
  },
  {
   "cell_type": "code",
   "execution_count": 255,
   "metadata": {
    "nbpresent": {
     "id": "22b72d7b-49e5-4382-a9b7-cbf7e1bc4740"
    }
   },
   "outputs": [],
   "source": [
    "def random(ind = 'c'):\n",
    "    pubs = [i for i in list(data) if i[0] == ind]\n",
    "    return np.random.choice(pubs)\n",
    "\n",
    "class RandomBandit(Bandit):\n",
    "    def compute(self):\n",
    "        return np.random.choice(range(len(self.choix)))"
   ]
  },
  {
   "cell_type": "code",
   "execution_count": 245,
   "metadata": {},
   "outputs": [],
   "source": [
    "def staticBest(data, ind = 'c'):\n",
    "    pubs = [i for i in list(data) if i[0] == ind]\n",
    "    return data[pubs].sum(axis=0).idxmax()\n",
    "\n",
    "class StaticBestBandit(Bandit):\n",
    "    def __init__(self, choices, rates):\n",
    "        super().__init__(choices)\n",
    "        self.best = self.choix.index(rates.sum(axis=0).idxmax())\n",
    "        \n",
    "    def compute(self):\n",
    "        return self.best"
   ]
  },
  {
   "cell_type": "code",
   "execution_count": 274,
   "metadata": {
    "collapsed": true
   },
   "outputs": [],
   "source": [
    "def staticOptimal(data, row, ind = 'c'):\n",
    "    pubs = [i for i in list(data) if i[0] == ind]\n",
    "    return data[pubs].loc[row].idxmax()\n",
    "\n",
    "class StaticOptimalBandit(Bandit):\n",
    "    def __init__(self, choices, rates):\n",
    "        super().__init__(choices)\n",
    "        self.data = rates\n",
    "        \n",
    "    def compute(self):\n",
    "        return self.choix.index(self.data.loc[self.context.index[0]].idxmax())"
   ]
  },
  {
   "cell_type": "code",
   "execution_count": 464,
   "metadata": {},
   "outputs": [],
   "source": [
    "randomB  = RandomBandit(choices)\n",
    "staticBB = StaticBestBandit(choices, clics_rates)\n",
    "staticOB = StaticOptimalBandit(choices, clics_rates)\n",
    "witnesses = [randomB, staticBB, staticOB]"
   ]
  },
  {
   "cell_type": "markdown",
   "metadata": {},
   "source": [
    "### UCB"
   ]
  },
  {
   "cell_type": "code",
   "execution_count": 248,
   "metadata": {},
   "outputs": [
    {
     "ename": "NameError",
     "evalue": "name 'QLearn' is not defined",
     "output_type": "error",
     "traceback": [
      "\u001b[0;31m---------------------------------------------------------------------------\u001b[0m",
      "\u001b[0;31mNameError\u001b[0m                                 Traceback (most recent call last)",
      "\u001b[0;32m<ipython-input-248-114d6071650f>\u001b[0m in \u001b[0;36m<module>\u001b[0;34m()\u001b[0m\n\u001b[1;32m      1\u001b[0m \u001b[0;31m#TODO DELETE\u001b[0m\u001b[0;34m\u001b[0m\u001b[0;34m\u001b[0m\u001b[0m\n\u001b[1;32m      2\u001b[0m \u001b[0;34m\u001b[0m\u001b[0m\n\u001b[0;32m----> 3\u001b[0;31m \u001b[0;32mclass\u001b[0m \u001b[0mUCB\u001b[0m\u001b[0;34m(\u001b[0m\u001b[0mQLearn\u001b[0m\u001b[0;34m)\u001b[0m\u001b[0;34m:\u001b[0m\u001b[0;34m\u001b[0m\u001b[0m\n\u001b[0m\u001b[1;32m      4\u001b[0m     \u001b[0;32mdef\u001b[0m \u001b[0m__init__\u001b[0m\u001b[0;34m(\u001b[0m\u001b[0mself\u001b[0m\u001b[0;34m)\u001b[0m\u001b[0;34m:\u001b[0m\u001b[0;34m\u001b[0m\u001b[0m\n\u001b[1;32m      5\u001b[0m         \u001b[0;34m'''self.p : {poss : {v: <float>, s:<int>}}'''\u001b[0m\u001b[0;34m\u001b[0m\u001b[0m\n",
      "\u001b[0;31mNameError\u001b[0m: name 'QLearn' is not defined"
     ]
    }
   ],
   "source": [
    "#TODO DELETE\n",
    "\n",
    "class UCB(QLearn):\n",
    "    def __init__(self):\n",
    "        '''self.p : {poss : {v: <float>, s:<int>}}'''\n",
    "        self.p = dict()\n",
    "        self.t = 0\n",
    "\n",
    "    def predict(self, state, poss):\n",
    "        bmax = -float(\"inf\")\n",
    "        for c in poss:\n",
    "            d = self.p.get(c, {'v':0.,'s':0})\n",
    "            b = d['v']/d['s'] + np.sqrt(2*np.log(self.t)/d['s'])\n",
    "            if b > bmax : \n",
    "                bmax = b\n",
    "                self.actual = c\n",
    "        self.p[self.actual] = self.p.get(self.actual, {'v':0.,'s':0})\n",
    "        self.p[self.actual]['s'] += 1\n",
    "        return self.actual\n",
    "\n",
    "    def reward(self, value):\n",
    "        self.p[self.actual]['v'] += value\n",
    "        \n"
   ]
  },
  {
   "cell_type": "code",
   "execution_count": 249,
   "metadata": {},
   "outputs": [],
   "source": [
    "class UCBBandit(Bandit):\n",
    "    def compute(self):\n",
    "        b = -float(\"inf\")\n",
    "        for c in range(len(self.choix)):\n",
    "            if self.state[c] == 0:  # Initialisation\n",
    "                return c\n",
    "            \n",
    "            nb = self.score[c]/self.state[c] + np.sqrt(2*np.log(self.t)/self.state[c])\n",
    "            if nb > b:\n",
    "                b = nb\n",
    "                r = c\n",
    "        return r"
   ]
  },
  {
   "cell_type": "code",
   "execution_count": 543,
   "metadata": {},
   "outputs": [],
   "source": [
    "class LinUCBBandit(Bandit):\n",
    "    def __init__(self, choices, alpha=0.5):\n",
    "        super().__init__(choices)\n",
    "        self.A = None\n",
    "        self.B = None\n",
    "        self.alpha = alpha\n",
    "        \n",
    "    def compute(self):\n",
    "        ct = np.array(self.context)[0]\n",
    "        \n",
    "        lc = len(self.choix)        # Nombre de choix\n",
    "        ld = ct.shape[0]            # Dimension du contexte\n",
    "        \n",
    "        if self.A is None:          # Initialisation\n",
    "            self.A = np.array([np.identity(ld) for i in range(lc)])\n",
    "            self.B = np.zeros((lc, ld))\n",
    "            \n",
    "        t = np.zeros((lc, ld, 1))\n",
    "        p = -float(\"inf\")\n",
    "        r = None\n",
    "        \n",
    "        for c in range(lc):\n",
    "            t[c] = np.linalg.inv(self.A[c]).dot(self.B[c].reshape((-1, 1)))\n",
    "            mp = ct.dot(t[c]) + self.alpha * \\\n",
    "                 np.sqrt(ct.dot(np.linalg.inv(self.A[c])).dot(ct.reshape((-1, 1))))\n",
    "                 \n",
    "            if mp > p:\n",
    "                p = mp\n",
    "                r = c\n",
    "            \n",
    "        return r\n",
    "        \n",
    "        \n",
    "    def reward(self, value):\n",
    "        '''\n",
    "            :param value: the reward value\n",
    "            :type value: float\n",
    "        '''\n",
    "        if self.lastp is not None:\n",
    "            ct = np.array(self.context)\n",
    "            self.A[self.lastp] += ct * ct.T\n",
    "            self.B[self.lastp] += value * ct.reshape((5,))\n",
    "            \n",
    "            self.score[self.lastp] += value\n",
    "            self.trace.append([self.choix[self.lastp], value])\n",
    "            self.lastp = None"
   ]
  },
  {
   "cell_type": "markdown",
   "metadata": {},
   "source": [
    "Nous expérimentons les deux algorithmes sur une série de 5000 étapes générées artificiellement.\n",
    "On instancie un exemplaire de chaque bandit témoin, ainsi qu'un UCB et plusieurs instances du LinearUCB en faisant vaier à chaque fois la valeur _alpha_ pondérant la part du contexte dans la prédiction"
   ]
  },
  {
   "cell_type": "code",
   "execution_count": 579,
   "metadata": {},
   "outputs": [],
   "source": [
    "witness = [RandomBandit(choices), \n",
    "           StaticBestBandit(choices, clics_rates),\n",
    "           StaticOptimalBandit(choices, clics_rates)]\n",
    "\n",
    "ucb     = [UCBBandit(choices)]\n",
    "\n",
    "linucb  = [LinUCBBandit(choices, 10),\n",
    "           LinUCBBandit(choices, 2),\n",
    "           LinUCBBandit(choices, 0.5),\n",
    "           LinUCBBandit(choices, 0.05)]\n",
    "\n",
    "bandits = witness + ucb + linucb\n",
    "\n",
    "trainer = Rewarder(description, clics_rates, bandits)"
   ]
  },
  {
   "cell_type": "code",
   "execution_count": 580,
   "metadata": {},
   "outputs": [],
   "source": [
    "trainer.run()"
   ]
  },
  {
   "cell_type": "code",
   "execution_count": 599,
   "metadata": {
    "collapsed": true
   },
   "outputs": [],
   "source": [
    "k = trainer.get().T"
   ]
  },
  {
   "cell_type": "markdown",
   "metadata": {},
   "source": [
    "Comparaison entre :\n",
    "* Témoin Random (en bleu)\n",
    "* Témoin Tricheur Moyen (en orange)\n",
    "* Témoin Tricheur Omniscient (en vert)\n",
    "* Algorithme UCB (en rouge)"
   ]
  },
  {
   "cell_type": "code",
   "execution_count": 600,
   "metadata": {},
   "outputs": [
    {
     "data": {
      "image/png": "[encoded data removed]",
      "text/plain": [
       "<matplotlib.figure.Figure at 0x7f4b6e646cc0>"
      ]
     },
     "metadata": {},
     "output_type": "display_data"
    }
   ],
   "source": [
    "plt.plot(k[:,:4])\n",
    "plt.show()"
   ]
  },
  {
   "cell_type": "markdown",
   "metadata": {},
   "source": [
    "Comparaison entre les différents LinUCB avec :\n",
    "* alpha = 10 (en bleu)\n",
    "* alpha = 2 (en orange)\n",
    "* alpha = .5 (en vert)\n",
    "* alpha = .05 (en rouge)"
   ]
  },
  {
   "cell_type": "code",
   "execution_count": 602,
   "metadata": {},
   "outputs": [
    {
     "data": {
      "image/png": "[encoded data removed]",
      "text/plain": [
       "<matplotlib.figure.Figure at 0x7f4b68ea4e10>"
      ]
     },
     "metadata": {},
     "output_type": "display_data"
    }
   ],
   "source": [
    "plt.plot(k[:,4:])\n",
    "plt.show()"
   ]
  },
  {
   "cell_type": "markdown",
   "metadata": {},
   "source": [
    "Comparaison entre : \n",
    "* Témoin Random (en bleu)\n",
    "* Témoin Tricheur Moyen (en orange)\n",
    "* Témoin Tricheur Omniscient (en vert)\n",
    "* Meilleur algorithme LinUCB (0.5) (en rouge)"
   ]
  },
  {
   "cell_type": "code",
   "execution_count": 610,
   "metadata": {},
   "outputs": [
    {
     "data": {
      "image/png": "[encoded data removed]",
      "text/plain": [
       "<matplotlib.figure.Figure at 0x7f4b7c29f3c8>"
      ]
     },
     "metadata": {},
     "output_type": "display_data"
    }
   ],
   "source": [
    "plt.plot(k[:,[0, 1, 2, 6]])\n",
    "plt.show()"
   ]
  },
  {
   "cell_type": "markdown",
   "metadata": {},
   "source": [
    "On observe que l'algorithme LinUCB est effectivement meilleur que le témoin tricheur moyen, et permet donc, si l'on dispose d'une description de contexte adéquate, d'obtenir de meilleurs résultats que si l'on ne "
   ]
  }
 ],
 "metadata": {
  "kernelspec": {
   "display_name": "Python 3",
   "language": "python",
   "name": "python3"
  },
  "language_info": {
   "codemirror_mode": {
    "name": "ipython",
    "version": 3
   },
   "file_extension": ".py",
   "mimetype": "text/x-python",
   "name": "python",
   "nbconvert_exporter": "python",
   "pygments_lexer": "ipython3",
   "version": "3.6.1"
  }
 },
 "nbformat": 4,
 "nbformat_minor": 2
}
