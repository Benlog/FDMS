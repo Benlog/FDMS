{
 "cells": [
  {
   "cell_type": "markdown",
   "metadata": {
    "nbpresent": {
     "id": "bd35decc-531e-4294-a890-4b83d5dab322"
    }
   },
   "source": [
    "# FDMS - TME 4\n",
    "\n",
    "### Imports"
   ]
  },
  {
   "cell_type": "code",
   "execution_count": 63,
   "metadata": {
    "nbpresent": {
     "id": "db2b699e-5f65-4cca-9ca3-2b0e8d003522"
    }
   },
   "outputs": [],
   "source": [
    "import pandas as pd\n",
    "import numpy as np"
   ]
  },
  {
   "cell_type": "code",
   "execution_count": 37,
   "metadata": {
    "nbpresent": {
     "id": "7a21b3b2-61b4-445d-990e-0d68d0f5663d"
    },
    "scrolled": true
   },
   "outputs": [],
   "source": [
    "data = pd.read_csv(\"CTR.txt\", \n",
    "            delimiter=\";\", \n",
    "            names=[\"index\", \"a0\", \"a1\", \"a2\", \"a3\", \"a4\", 'c0', 'c1', 'c2', 'c3', 'c4', 'c5', 'c6', 'c7', 'c8', 'c9'],\n",
    "            index_col=0)"
   ]
  },
  {
   "cell_type": "code",
   "execution_count": 104,
   "metadata": {},
   "outputs": [
    {
     "data": {
      "text/html": [
       "<div>\n",
       "<style>\n",
       "    .dataframe thead tr:only-child th {\n",
       "        text-align: right;\n",
       "    }\n",
       "\n",
       "    .dataframe thead th {\n",
       "        text-align: left;\n",
       "    }\n",
       "\n",
       "    .dataframe tbody tr th {\n",
       "        vertical-align: top;\n",
       "    }\n",
       "</style>\n",
       "<table border=\"1\" class=\"dataframe\">\n",
       "  <thead>\n",
       "    <tr style=\"text-align: right;\">\n",
       "      <th></th>\n",
       "      <th>a0</th>\n",
       "      <th>a1</th>\n",
       "      <th>a2</th>\n",
       "      <th>a3</th>\n",
       "      <th>a4</th>\n",
       "      <th>c0</th>\n",
       "      <th>c1</th>\n",
       "      <th>c2</th>\n",
       "      <th>c3</th>\n",
       "      <th>c4</th>\n",
       "      <th>c5</th>\n",
       "      <th>c6</th>\n",
       "      <th>c7</th>\n",
       "      <th>c8</th>\n",
       "      <th>c9</th>\n",
       "    </tr>\n",
       "    <tr>\n",
       "      <th>index</th>\n",
       "      <th></th>\n",
       "      <th></th>\n",
       "      <th></th>\n",
       "      <th></th>\n",
       "      <th></th>\n",
       "      <th></th>\n",
       "      <th></th>\n",
       "      <th></th>\n",
       "      <th></th>\n",
       "      <th></th>\n",
       "      <th></th>\n",
       "      <th></th>\n",
       "      <th></th>\n",
       "      <th></th>\n",
       "      <th></th>\n",
       "    </tr>\n",
       "  </thead>\n",
       "  <tbody>\n",
       "    <tr>\n",
       "      <th>0</th>\n",
       "      <td>0.748371</td>\n",
       "      <td>0.835208</td>\n",
       "      <td>0.076699</td>\n",
       "      <td>0.172439</td>\n",
       "      <td>0.143446</td>\n",
       "      <td>0.103419</td>\n",
       "      <td>0.190698</td>\n",
       "      <td>0.0</td>\n",
       "      <td>0.102401</td>\n",
       "      <td>0.036312</td>\n",
       "      <td>0.074562</td>\n",
       "      <td>0.234702</td>\n",
       "      <td>0.000000</td>\n",
       "      <td>0.000000</td>\n",
       "      <td>0.078574</td>\n",
       "    </tr>\n",
       "    <tr>\n",
       "      <th>1</th>\n",
       "      <td>0.168419</td>\n",
       "      <td>0.133754</td>\n",
       "      <td>0.434864</td>\n",
       "      <td>0.995678</td>\n",
       "      <td>0.048800</td>\n",
       "      <td>0.000000</td>\n",
       "      <td>0.000000</td>\n",
       "      <td>0.0</td>\n",
       "      <td>0.020827</td>\n",
       "      <td>0.000000</td>\n",
       "      <td>0.000000</td>\n",
       "      <td>0.022586</td>\n",
       "      <td>0.000000</td>\n",
       "      <td>0.146548</td>\n",
       "      <td>0.324596</td>\n",
       "    </tr>\n",
       "    <tr>\n",
       "      <th>2</th>\n",
       "      <td>0.485287</td>\n",
       "      <td>0.566989</td>\n",
       "      <td>0.041657</td>\n",
       "      <td>0.962560</td>\n",
       "      <td>0.185080</td>\n",
       "      <td>0.109575</td>\n",
       "      <td>0.136626</td>\n",
       "      <td>0.0</td>\n",
       "      <td>0.098411</td>\n",
       "      <td>0.074771</td>\n",
       "      <td>0.000000</td>\n",
       "      <td>0.000000</td>\n",
       "      <td>0.000000</td>\n",
       "      <td>0.014760</td>\n",
       "      <td>0.193677</td>\n",
       "    </tr>\n",
       "    <tr>\n",
       "      <th>3</th>\n",
       "      <td>0.622231</td>\n",
       "      <td>0.196123</td>\n",
       "      <td>0.131147</td>\n",
       "      <td>0.439719</td>\n",
       "      <td>0.298934</td>\n",
       "      <td>0.000000</td>\n",
       "      <td>0.151069</td>\n",
       "      <td>0.0</td>\n",
       "      <td>0.127239</td>\n",
       "      <td>0.112239</td>\n",
       "      <td>0.000000</td>\n",
       "      <td>0.012022</td>\n",
       "      <td>0.034284</td>\n",
       "      <td>0.000000</td>\n",
       "      <td>0.086177</td>\n",
       "    </tr>\n",
       "    <tr>\n",
       "      <th>4</th>\n",
       "      <td>0.331710</td>\n",
       "      <td>0.086411</td>\n",
       "      <td>0.023036</td>\n",
       "      <td>0.925518</td>\n",
       "      <td>0.333580</td>\n",
       "      <td>0.000000</td>\n",
       "      <td>0.109214</td>\n",
       "      <td>0.0</td>\n",
       "      <td>0.151938</td>\n",
       "      <td>0.049861</td>\n",
       "      <td>0.000000</td>\n",
       "      <td>0.000000</td>\n",
       "      <td>0.037427</td>\n",
       "      <td>0.118916</td>\n",
       "      <td>0.216592</td>\n",
       "    </tr>\n",
       "    <tr>\n",
       "      <th>5</th>\n",
       "      <td>0.109601</td>\n",
       "      <td>0.879662</td>\n",
       "      <td>0.353879</td>\n",
       "      <td>0.669680</td>\n",
       "      <td>0.376216</td>\n",
       "      <td>0.089459</td>\n",
       "      <td>0.209107</td>\n",
       "      <td>0.0</td>\n",
       "      <td>0.120088</td>\n",
       "      <td>0.000000</td>\n",
       "      <td>0.000000</td>\n",
       "      <td>0.078749</td>\n",
       "      <td>0.000000</td>\n",
       "      <td>0.000000</td>\n",
       "      <td>0.241406</td>\n",
       "    </tr>\n",
       "    <tr>\n",
       "      <th>6</th>\n",
       "      <td>0.127865</td>\n",
       "      <td>0.602231</td>\n",
       "      <td>0.986143</td>\n",
       "      <td>0.267415</td>\n",
       "      <td>0.488381</td>\n",
       "      <td>0.000000</td>\n",
       "      <td>0.045596</td>\n",
       "      <td>0.0</td>\n",
       "      <td>0.441938</td>\n",
       "      <td>0.064135</td>\n",
       "      <td>0.000000</td>\n",
       "      <td>0.185478</td>\n",
       "      <td>0.142613</td>\n",
       "      <td>0.000000</td>\n",
       "      <td>0.245626</td>\n",
       "    </tr>\n",
       "    <tr>\n",
       "      <th>7</th>\n",
       "      <td>0.229038</td>\n",
       "      <td>0.506290</td>\n",
       "      <td>0.091916</td>\n",
       "      <td>0.781189</td>\n",
       "      <td>0.617084</td>\n",
       "      <td>0.104684</td>\n",
       "      <td>0.081973</td>\n",
       "      <td>0.0</td>\n",
       "      <td>0.127450</td>\n",
       "      <td>0.085391</td>\n",
       "      <td>0.000000</td>\n",
       "      <td>0.000000</td>\n",
       "      <td>0.000000</td>\n",
       "      <td>0.000000</td>\n",
       "      <td>0.184564</td>\n",
       "    </tr>\n",
       "    <tr>\n",
       "      <th>8</th>\n",
       "      <td>0.421367</td>\n",
       "      <td>0.416732</td>\n",
       "      <td>0.965223</td>\n",
       "      <td>0.508880</td>\n",
       "      <td>0.212582</td>\n",
       "      <td>0.021246</td>\n",
       "      <td>0.000000</td>\n",
       "      <td>0.0</td>\n",
       "      <td>0.245925</td>\n",
       "      <td>0.007313</td>\n",
       "      <td>0.000000</td>\n",
       "      <td>0.097657</td>\n",
       "      <td>0.092145</td>\n",
       "      <td>0.000000</td>\n",
       "      <td>0.318084</td>\n",
       "    </tr>\n",
       "    <tr>\n",
       "      <th>9</th>\n",
       "      <td>0.444963</td>\n",
       "      <td>0.583060</td>\n",
       "      <td>0.346337</td>\n",
       "      <td>0.370545</td>\n",
       "      <td>0.733722</td>\n",
       "      <td>0.000000</td>\n",
       "      <td>0.165378</td>\n",
       "      <td>0.0</td>\n",
       "      <td>0.214613</td>\n",
       "      <td>0.014049</td>\n",
       "      <td>0.000000</td>\n",
       "      <td>0.055444</td>\n",
       "      <td>0.000000</td>\n",
       "      <td>0.000000</td>\n",
       "      <td>0.201386</td>\n",
       "    </tr>\n",
       "  </tbody>\n",
       "</table>\n",
       "</div>"
      ],
      "text/plain": [
       "             a0        a1        a2        a3        a4        c0        c1  \\\n",
       "index                                                                         \n",
       "0      0.748371  0.835208  0.076699  0.172439  0.143446  0.103419  0.190698   \n",
       "1      0.168419  0.133754  0.434864  0.995678  0.048800  0.000000  0.000000   \n",
       "2      0.485287  0.566989  0.041657  0.962560  0.185080  0.109575  0.136626   \n",
       "3      0.622231  0.196123  0.131147  0.439719  0.298934  0.000000  0.151069   \n",
       "4      0.331710  0.086411  0.023036  0.925518  0.333580  0.000000  0.109214   \n",
       "5      0.109601  0.879662  0.353879  0.669680  0.376216  0.089459  0.209107   \n",
       "6      0.127865  0.602231  0.986143  0.267415  0.488381  0.000000  0.045596   \n",
       "7      0.229038  0.506290  0.091916  0.781189  0.617084  0.104684  0.081973   \n",
       "8      0.421367  0.416732  0.965223  0.508880  0.212582  0.021246  0.000000   \n",
       "9      0.444963  0.583060  0.346337  0.370545  0.733722  0.000000  0.165378   \n",
       "\n",
       "        c2        c3        c4        c5        c6        c7        c8  \\\n",
       "index                                                                    \n",
       "0      0.0  0.102401  0.036312  0.074562  0.234702  0.000000  0.000000   \n",
       "1      0.0  0.020827  0.000000  0.000000  0.022586  0.000000  0.146548   \n",
       "2      0.0  0.098411  0.074771  0.000000  0.000000  0.000000  0.014760   \n",
       "3      0.0  0.127239  0.112239  0.000000  0.012022  0.034284  0.000000   \n",
       "4      0.0  0.151938  0.049861  0.000000  0.000000  0.037427  0.118916   \n",
       "5      0.0  0.120088  0.000000  0.000000  0.078749  0.000000  0.000000   \n",
       "6      0.0  0.441938  0.064135  0.000000  0.185478  0.142613  0.000000   \n",
       "7      0.0  0.127450  0.085391  0.000000  0.000000  0.000000  0.000000   \n",
       "8      0.0  0.245925  0.007313  0.000000  0.097657  0.092145  0.000000   \n",
       "9      0.0  0.214613  0.014049  0.000000  0.055444  0.000000  0.000000   \n",
       "\n",
       "             c9  \n",
       "index            \n",
       "0      0.078574  \n",
       "1      0.324596  \n",
       "2      0.193677  \n",
       "3      0.086177  \n",
       "4      0.216592  \n",
       "5      0.241406  \n",
       "6      0.245626  \n",
       "7      0.184564  \n",
       "8      0.318084  \n",
       "9      0.201386  "
      ]
     },
     "execution_count": 104,
     "metadata": {},
     "output_type": "execute_result"
    }
   ],
   "source": [
    "pubs = [i for i in list(data) if i[0] == 'c']\n",
    "data[:10]\n"
   ]
  },
  {
   "cell_type": "markdown",
   "metadata": {
    "nbpresent": {
     "id": "7925ec3b-a318-412b-abf4-5d3d5e8306a6"
    }
   },
   "source": [
    "### Baseline"
   ]
  },
  {
   "cell_type": "code",
   "execution_count": 109,
   "metadata": {},
   "outputs": [],
   "source": [
    "class QLearn(object):\n",
    "\n",
    "    def predict(self, state, possibilities):\n",
    "        '''\n",
    "        :param state: current state\n",
    "        :param possibilities: next step to choose\n",
    "        :type possibilities: list\n",
    "        :return: the chosen step\n",
    "        '''\n",
    "        pass\n",
    "    \n",
    "    def reward(self, value):\n",
    "        '''\n",
    "        :param value: the reward value\n",
    "        :type value: float\n",
    "        '''\n",
    "        pass"
   ]
  },
  {
   "cell_type": "code",
   "execution_count": 107,
   "metadata": {},
   "outputs": [],
   "source": [
    "# TODO Baselines to class"
   ]
  },
  {
   "cell_type": "code",
   "execution_count": 67,
   "metadata": {
    "nbpresent": {
     "id": "22b72d7b-49e5-4382-a9b7-cbf7e1bc4740"
    }
   },
   "outputs": [],
   "source": [
    "def random(ind = 'c'):\n",
    "    pubs = [i for i in list(data) if i[0] == ind]\n",
    "    return np.random.choice(pubs)"
   ]
  },
  {
   "cell_type": "code",
   "execution_count": 68,
   "metadata": {},
   "outputs": [],
   "source": [
    "def staticBest(data, ind = 'c'):\n",
    "    pubs = [i for i in list(data) if i[0] == ind]\n",
    "    return data[pubs].sum(axis=0).idxmax()"
   ]
  },
  {
   "cell_type": "code",
   "execution_count": 101,
   "metadata": {},
   "outputs": [],
   "source": [
    "def staticOptimal(data, row, ind = 'c'):\n",
    "    pubs = [i for i in list(data) if i[0] == ind]\n",
    "    return data[pubs].loc[row].idxmax()"
   ]
  },
  {
   "cell_type": "code",
   "execution_count": 102,
   "metadata": {},
   "outputs": [
    {
     "name": "stdout",
     "output_type": "stream",
     "text": [
      "['c1', 'c3', 'c6']\n",
      "['c8', 'c3', 'c9']\n",
      "['c8', 'c3', 'c9']\n",
      "['c6', 'c3', 'c1']\n",
      "['c6', 'c3', 'c9']\n",
      "['c7', 'c3', 'c9']\n",
      "['c6', 'c3', 'c3']\n",
      "['c1', 'c3', 'c9']\n",
      "['c7', 'c3', 'c9']\n",
      "['c2', 'c3', 'c3']\n"
     ]
    }
   ],
   "source": [
    "for i in range(10):\n",
    "    print([random(), staticBest(data), staticOptimal(data, i)])"
   ]
  },
  {
   "cell_type": "markdown",
   "metadata": {},
   "source": [
    "### UCB"
   ]
  },
  {
   "cell_type": "code",
   "execution_count": 111,
   "metadata": {},
   "outputs": [],
   "source": [
    "class UCB(QLearn):\n",
    "    def __init__(self):\n",
    "        '''self.p : {poss : {v: <float>, s:<int>}}'''\n",
    "        self.p = dict()\n",
    "        self.t = 0\n",
    "\n",
    "    def predict(self, state, poss):\n",
    "        bmax = -float(\"inf\")\n",
    "        for c in poss:\n",
    "            d = self.p.get(c, {'v':0.,'s':0})\n",
    "            b = d['v']/d['s'] + np.sqrt(2*np.log(self.t)/d['s'])\n",
    "            if b > bmax : \n",
    "                bmax = b\n",
    "                self.actual = c\n",
    "        self.p[self.actual] = self.p.get(self.actual, {'v':0.,'s':0})\n",
    "        self.p[self.actual]['s'] += 1\n",
    "        return self.actual\n",
    "\n",
    "    def reward(self, value):\n",
    "        self.p[self.actual]['v'] += value"
   ]
  },
  {
   "cell_type": "code",
   "execution_count": 116,
   "metadata": {},
   "outputs": [
    {
     "ename": "SyntaxError",
     "evalue": "can't assign to function call (<ipython-input-116-789e2fcc7546>, line 2)",
     "output_type": "error",
     "traceback": [
      "\u001b[0;36m  File \u001b[0;32m\"<ipython-input-116-789e2fcc7546>\"\u001b[0;36m, line \u001b[0;32m2\u001b[0m\n\u001b[0;31m    d.get(1) = 3\u001b[0m\n\u001b[0m                ^\u001b[0m\n\u001b[0;31mSyntaxError\u001b[0m\u001b[0;31m:\u001b[0m can't assign to function call\n"
     ]
    }
   ],
   "source": [
    "def learn(data, model):\n",
    "    for i in data:\n",
    "        pubs = [i for i in list(data) if i[0] == 'c']\n",
    "        model.predict(i[pubs])"
   ]
  },
  {
   "cell_type": "code",
   "execution_count": null,
   "metadata": {},
   "outputs": [],
   "source": []
  }
 ],
 "metadata": {
  "kernelspec": {
   "display_name": "Python [conda env:myenv]",
   "language": "python",
   "name": "conda-env-myenv-py"
  },
  "language_info": {
   "codemirror_mode": {
    "name": "ipython",
    "version": 3
   },
   "file_extension": ".py",
   "mimetype": "text/x-python",
   "name": "python",
   "nbconvert_exporter": "python",
   "pygments_lexer": "ipython3",
   "version": "3.5.4"
  }
 },
 "nbformat": 4,
 "nbformat_minor": 2
}
