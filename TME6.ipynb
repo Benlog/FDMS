{
 "cells": [
  {
   "cell_type": "code",
   "execution_count": 1,
   "metadata": {
    "collapsed": true
   },
   "outputs": [],
   "source": [
    "import numpy as np\n",
    "import scipy\n",
    "import networkx as nx\n",
    "import matplotlib.pyplot as plt"
   ]
  },
  {
   "cell_type": "code",
   "execution_count": 2,
   "metadata": {
    "collapsed": true
   },
   "outputs": [],
   "source": [
    "def loadLinks(path):\n",
    "    d = {}\n",
    "    with open(path) as f:\n",
    "        for l in f:\n",
    "            w = l.split()\n",
    "            d[int(w[0])] = [int(i) for i in w[1:]]\n",
    "    return d"
   ]
  },
  {
   "cell_type": "code",
   "execution_count": 3,
   "metadata": {
    "collapsed": true
   },
   "outputs": [],
   "source": [
    "data = np.loadtxt(\"./recodata/u.data\", int)[:,:3]\n",
    "links = nx.from_dict_of_lists(loadLinks(\"./recodata/u.links\"),create_using=nx.DiGraph())\n",
    "du, dv, _ = data.max(0)"
   ]
  },
  {
   "cell_type": "code",
   "execution_count": null,
   "metadata": {
    "collapsed": true
   },
   "outputs": [],
   "source": [
    "def colFil(r, u, v, ite = 1, alpha = 0.001, eps = 1e-3, verbose = False):\n",
    "    '''r matrice sparse de la forme rowInd colInd data\n",
    "    u : rowLen(r) * n\n",
    "    v : colLen(r) * m'''\n",
    "    for i in range(ite):\n",
    "        if i%(ite//10) == 0: \n",
    "            print(\"iter :\", i)\n",
    "            if verbose :\n",
    "                print(\"u\", u.mean(0))\n",
    "                print(\"v\", v.mean(0))\n",
    "        for ui, vi, d in r:\n",
    "            ui -= 1\n",
    "            vi -= 1\n",
    "            dist1 = d - u[ui].dot(v[vi])\n",
    "            u[ui] += eps * 2 *(dist1 * v[vi] + alpha * u[ui])\n",
    "            v[vi] += eps * 2 *(dist1 * u[ui] + alpha * v[vi])\n",
    "            if verbose : print(\"u\", u[ui])\n",
    "            if verbose : print(\"v\", v[vi])\n",
    "        lossHisto.append(dist1*dist1)"
   ]
  },
  {
   "cell_type": "code",
   "execution_count": null,
   "metadata": {
    "scrolled": true
   },
   "outputs": [],
   "source": [
    "u = np.random.rand(du, 10)\n",
    "v = np.random.rand(dv, 10)\n",
    "lossHisto = []\n",
    "#colFil(data, u, v, 300)\n",
    "colFil(data, u, v, 300, verbose = True)"
   ]
  },
  {
   "cell_type": "code",
   "execution_count": 11,
   "metadata": {},
   "outputs": [
    {
     "data": {
      "image/png": "[encoded data removed]",
      "text/plain": [
       "<matplotlib.figure.Figure at 0x7f7a56c32978>"
      ]
     },
     "metadata": {},
     "output_type": "display_data"
    }
   ],
   "source": [
    "plt.plot(lossHisto)\n",
    "plt.ylabel('loss')\n",
    "plt.xlabel('nb batch traited')\n",
    "plt.show()"
   ]
  },
  {
   "cell_type": "code",
   "execution_count": 12,
   "metadata": {},
   "outputs": [
    {
     "name": "stdout",
     "output_type": "stream",
     "text": [
      "3.64942239738 4\n"
     ]
    }
   ],
   "source": [
    "r2 = u.dot(v.T)\n",
    "i,j,d = data[50]\n",
    "print(r2[i,j], d)"
   ]
  },
  {
   "cell_type": "markdown",
   "metadata": {},
   "source": [
    "Faire pareil que colFil mais avec une contrainte suplémentaire : minimiser les distance entre certain vecteur de U et une autre matrice Z avec les lien entre l'utilisateur i et j (potentiellement dirigé) t. q. (Ui-Zj)^2 -> 0 "
   ]
  },
  {
   "cell_type": "code",
   "execution_count": 22,
   "metadata": {
    "collapsed": true
   },
   "outputs": [],
   "source": [
    "def colFilRez(r, l, u, v, ite = 1, alpha = 0.001, beta = 0.1, eps = 1e-3, verbose = False):\n",
    "    '''r matrice sparse de la forme rowInd colInd data\n",
    "    u : rowLen(r) * n\n",
    "    v : colLen(r) * m'''\n",
    "    for i in range(ite):\n",
    "        if i%(ite//10) == 0:\n",
    "        #if True :\n",
    "            print(\"iter :\", i)\n",
    "            if verbose :\n",
    "                print(\"u\", u.mean(0))\n",
    "                print(\"v\", v.mean(0))\n",
    "        for ui, vi, d in r:\n",
    "            ui -= 1\n",
    "            vi -= 1\n",
    "            dist1 = d - u[ui].dot(v[vi])\n",
    "            v[vi] += eps * 2 *(dist1 * u[ui] + alpha * v[vi])\n",
    "            if l.has_node(ui) and l.out_degree[ui] != 0:\n",
    "                for zi in l.neighbors(ui):\n",
    "                    zi -= 1\n",
    "                    u[ui] += eps * 2 *(dist1 * v[vi] + alpha * u[ui] + beta * (u[zi] - u[ui]))\n",
    "            else :\n",
    "                u[ui] += eps * 2 *(dist1 * v[vi] + alpha * u[ui])\n",
    "        lossHisto.append(dist1*dist1)"
   ]
  },
  {
   "cell_type": "code",
   "execution_count": 26,
   "metadata": {},
   "outputs": [
    {
     "name": "stdout",
     "output_type": "stream",
     "text": [
      "iter : 0\n",
      "u [ 0.50687497  0.49329492  0.50436624  0.5042371   0.4916564   0.50475769\n",
      "  0.49514683  0.49927328  0.50673865  0.50000272]\n",
      "v [ 0.49478389  0.49744434  0.4824159   0.50180377  0.48690032  0.48490815\n",
      "  0.51809736  0.50040603  0.48971862  0.48914875]\n",
      "iter : 10\n",
      "u [ 0.65295898  0.69623735  0.64786696  0.64064362  0.6284597   0.6467758\n",
      "  0.64880169  0.69794265  0.66639036  0.67466182]\n",
      "v [ 0.50277686  0.50589491  0.49138824  0.51011533  0.49444951  0.49328995\n",
      "  0.52463002  0.5078918   0.4973559   0.4977779 ]\n",
      "iter : 20\n",
      "u [ 0.66911496  0.72985265  0.65265386  0.65262893  0.63628808  0.67153865\n",
      "  0.64810042  0.72277054  0.67073022  0.68522617]\n",
      "v [ 0.49368617  0.4958631   0.48234932  0.50076109  0.48411548  0.48381862\n",
      "  0.51336735  0.49641672  0.48637309  0.48838093]\n",
      "iter : 30\n",
      "u [ 0.68612148  0.76314503  0.6554945   0.66467314  0.64377137  0.69795715\n",
      "  0.65004608  0.74452172  0.673898    0.68926394]\n",
      "v [ 0.48579202  0.48607929  0.47409395  0.4919234   0.47385356  0.47469629\n",
      "  0.50225919  0.48498532  0.47540528  0.47978988]\n",
      "iter : 40\n",
      "u [ 0.7019409   0.7970014   0.65694945  0.67623962  0.65084259  0.72518524\n",
      "  0.65594367  0.76540109  0.67720855  0.6907697 ]\n",
      "v [ 0.47868343  0.47651559  0.46638549  0.4836209   0.46391596  0.46588643\n",
      "  0.49133771  0.47363108  0.46470474  0.4718615 ]\n",
      "iter : 50\n",
      "u [ 0.71659812  0.83167609  0.65698294  0.6881668   0.65857243  0.75268502\n",
      "  0.66499028  0.78616694  0.68086075  0.69165102]\n",
      "v [ 0.47199313  0.46711251  0.45903172  0.47580422  0.4543776   0.4573164\n",
      "  0.48055979  0.4623101   0.45441335  0.46442029]\n",
      "iter : 60\n",
      "u [ 0.730507    0.86712516  0.65598646  0.70055115  0.6672373   0.78013772\n",
      "  0.67575252  0.80739951  0.68482259  0.69265949]\n",
      "v [ 0.46553057  0.45779474  0.45193436  0.46837539  0.44519447  0.44893696\n",
      "  0.46988778  0.45097459  0.44453082  0.45733348]\n",
      "iter : 70\n",
      "u [ 0.74403084  0.90323574  0.6545172   0.71325368  0.67684406  0.80747566\n",
      "  0.68720073  0.82946046  0.68917221  0.69416988]\n",
      "v [ 0.45918886  0.44850449  0.44503811  0.46123978  0.43630165  0.44071702\n",
      "  0.45930813  0.43959486  0.43500797  0.45049999]\n",
      "iter : 80\n",
      "u [ 0.75739985  0.9399403   0.65303128  0.72619413  0.68741908  0.83478754\n",
      "  0.69876441  0.85247795  0.69403856  0.69636933]\n",
      "v [ 0.45290256  0.43920257  0.43830976  0.45432202  0.42764252  0.43262756\n",
      "  0.44881849  0.4281538   0.42578653  0.44384405]\n",
      "iter : 90\n",
      "u [ 0.77076016  0.97723013  0.65185452  0.73936525  0.69900886  0.8622206\n",
      "  0.7101846   0.87648418  0.69952696  0.69931036]\n",
      "v [ 0.44663077  0.42986049  0.4317282   0.44756516  0.41917211  0.42463699\n",
      "  0.43841849  0.41664082  0.41681269  0.43731073]\n"
     ]
    }
   ],
   "source": [
    "u2 = np.random.rand(du, 10)\n",
    "v2 = np.random.rand(dv, 10)\n",
    "lossHisto = []\n",
    "colFilRez(data, links, u2, v2, 100)"
   ]
  },
  {
   "cell_type": "code",
   "execution_count": 27,
   "metadata": {},
   "outputs": [
    {
     "data": {
      "image/png": "[encoded data removed]",
      "text/plain": [
       "<matplotlib.figure.Figure at 0x7f7a56cd34a8>"
      ]
     },
     "metadata": {},
     "output_type": "display_data"
    }
   ],
   "source": [
    "plt.plot(lossHisto)\n",
    "plt.ylabel('loss')\n",
    "plt.xlabel('nb batch traited')\n",
    "plt.show()"
   ]
  },
  {
   "cell_type": "code",
   "execution_count": null,
   "metadata": {
    "collapsed": true
   },
   "outputs": [],
   "source": []
  }
 ],
 "metadata": {
  "kernelspec": {
   "display_name": "Python 3",
   "language": "python",
   "name": "python3"
  },
  "language_info": {
   "codemirror_mode": {
    "name": "ipython",
    "version": 3
   },
   "file_extension": ".py",
   "mimetype": "text/x-python",
   "name": "python",
   "nbconvert_exporter": "python",
   "pygments_lexer": "ipython3",
   "version": "3.6.3"
  }
 },
 "nbformat": 4,
 "nbformat_minor": 2
}
