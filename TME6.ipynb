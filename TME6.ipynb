{
 "cells": [
  {
   "cell_type": "code",
   "execution_count": 1,
   "metadata": {},
   "outputs": [],
   "source": [
    "import numpy as np\n",
    "import scipy\n",
    "import networkx as nx\n",
    "import matplotlib.pyplot as plt"
   ]
  },
  {
   "cell_type": "code",
   "execution_count": 2,
   "metadata": {},
   "outputs": [],
   "source": [
    "def loadLinks(path):\n",
    "    d = {}\n",
    "    with open(path) as f:\n",
    "        for l in f:\n",
    "            w = l.split()\n",
    "            d[int(w[0])] = [int(i) for i in w[1:]]\n",
    "    return d"
   ]
  },
  {
   "cell_type": "code",
   "execution_count": 3,
   "metadata": {},
   "outputs": [],
   "source": [
    "data = np.loadtxt(\"./recodata/u.data\", int)[:,:3]\n",
    "links = nx.from_dict_of_lists(loadLinks(\"./recodata/u.links\"),create_using=nx.DiGraph())\n",
    "du, dv, _ = data.max(0)"
   ]
  },
  {
   "cell_type": "code",
   "execution_count": 4,
   "metadata": {},
   "outputs": [],
   "source": [
    "def colFil(r, u, v, ite = 1, alpha = 0.001, eps = 1e-3, verbose = False):\n",
    "    '''r matrice sparse de la forme rowInd colInd data\n",
    "    u : rowLen(r) * n\n",
    "    v : colLen(r) * m'''\n",
    "    for i in range(ite):\n",
    "        if i%(ite//10) == 0: \n",
    "            print(\"iter :\", i)\n",
    "            if verbose :\n",
    "                print(\"u\", u.mean(0))\n",
    "                print(\"v\", v.mean(0))\n",
    "        for ui, vi, d in r:\n",
    "            ui -= 1\n",
    "            vi -= 1\n",
    "            dist1 = d - u[ui].dot(v[vi])\n",
    "            u[ui] += eps * 2 *(dist1 * v[vi] + alpha * u[ui])\n",
    "            v[vi] += eps * 2 *(dist1 * u[ui] + alpha * v[vi])\n",
    "            if verbose : print(\"u\", u[ui])\n",
    "            if verbose : print(\"v\", v[vi])\n",
    "        lossHisto.append(dist1*dist1)"
   ]
  },
  {
   "cell_type": "code",
   "execution_count": 5,
   "metadata": {
    "scrolled": true
   },
   "outputs": [
    {
     "name": "stdout",
     "output_type": "stream",
     "text": [
      "iter : 0\n",
      "iter : 30\n",
      "iter : 60\n",
      "iter : 90\n",
      "iter : 120\n",
      "iter : 150\n",
      "iter : 180\n",
      "iter : 210\n",
      "iter : 240\n",
      "iter : 270\n"
     ]
    }
   ],
   "source": [
    "u = np.random.rand(du, 10)\n",
    "v = np.random.rand(dv, 10)\n",
    "lossHisto = []\n",
    "#colFil(data, u, v, 300)\n",
    "colFil(data, u, v, 300)"
   ]
  },
  {
   "cell_type": "code",
   "execution_count": 6,
   "metadata": {},
   "outputs": [
    {
     "data": {
      "image/png": "[encoded data removed]",
      "text/plain": [
       "<matplotlib.figure.Figure at 0x7f39c55b8f60>"
      ]
     },
     "metadata": {},
     "output_type": "display_data"
    }
   ],
   "source": [
    "plt.plot(lossHisto)\n",
    "plt.ylabel('loss')\n",
    "plt.xlabel('nb batch traited')\n",
    "plt.show()"
   ]
  },
  {
   "cell_type": "code",
   "execution_count": 7,
   "metadata": {},
   "outputs": [
    {
     "name": "stdout",
     "output_type": "stream",
     "text": [
      "4.55431888536 4\n"
     ]
    }
   ],
   "source": [
    "r2 = u.dot(v.T)\n",
    "i,j,d = data[50]\n",
    "print(r2[i,j], d)"
   ]
  },
  {
   "cell_type": "markdown",
   "metadata": {},
   "source": [
    "Faire pareil que colFil mais avec une contrainte suplémentaire : minimiser les distance entre certain vecteur de U et une autre matrice Z avec les lien entre l'utilisateur i et j (potentiellement dirigé) t. q. (Ui-Zj)^2 -> 0 "
   ]
  },
  {
   "cell_type": "code",
   "execution_count": 8,
   "metadata": {},
   "outputs": [],
   "source": [
    "def colFilRez(r, l, u, v, ite = 1, alpha = 0.001, beta = 0.1, eps = 1e-3, verbose = False):\n",
    "    '''r matrice sparse de la forme rowInd colInd data\n",
    "    u : rowLen(r) * n\n",
    "    v : colLen(r) * m'''\n",
    "    for i in range(ite):\n",
    "        if i%(ite//10) == 0:\n",
    "        #if True :\n",
    "            print(\"iter :\", i)\n",
    "            if verbose :\n",
    "                print(\"u\", u.mean(0))\n",
    "                print(\"v\", v.mean(0))\n",
    "        for ui, vi, d in r:\n",
    "            ui -= 1\n",
    "            vi -= 1\n",
    "            dist1 = d - u[ui].dot(v[vi])\n",
    "            v[vi] += eps * 2 *(dist1 * u[ui] + alpha * v[vi])\n",
    "            if l.has_node(ui) and l.out_degree[ui] != 0:\n",
    "                for zi in l.neighbors(ui):\n",
    "                    zi -= 1\n",
    "                    u[ui] += eps * 2 *(dist1 * v[vi] + alpha * u[ui] + beta * (u[zi] - u[ui]))\n",
    "            else :\n",
    "                u[ui] += eps * 2 *(dist1 * v[vi] + alpha * u[ui])\n",
    "        lossHisto.append(dist1*dist1)"
   ]
  },
  {
   "cell_type": "code",
   "execution_count": 9,
   "metadata": {},
   "outputs": [
    {
     "name": "stdout",
     "output_type": "stream",
     "text": [
      "iter : 0\n",
      "iter : 10\n",
      "iter : 20\n",
      "iter : 30\n",
      "iter : 40\n",
      "iter : 50\n",
      "iter : 60\n",
      "iter : 70\n",
      "iter : 80\n",
      "iter : 90\n"
     ]
    }
   ],
   "source": [
    "u = np.random.rand(du, 10)\n",
    "v = np.random.rand(dv, 10)\n",
    "lossHisto = []\n",
    "colFilRez(data, links, u, v, 100)"
   ]
  },
  {
   "cell_type": "code",
   "execution_count": 10,
   "metadata": {},
   "outputs": [
    {
     "data": {
      "image/png": "[encoded data removed]",
      "text/plain": [
       "<matplotlib.figure.Figure at 0x7f39c5763a90>"
      ]
     },
     "metadata": {},
     "output_type": "display_data"
    }
   ],
   "source": [
    "plt.plot(lossHisto)\n",
    "plt.ylabel('loss')\n",
    "plt.xlabel('nb batch traited')\n",
    "plt.show()"
   ]
  },
  {
   "cell_type": "code",
   "execution_count": 11,
   "metadata": {},
   "outputs": [],
   "source": [
    "def colFilRez2(r, l, u, v, ite = 1, alpha = 0.001, beta = 0.1, eps = 1e-3, verbose = False):\n",
    "    '''r matrice sparse de la forme rowInd colInd data\n",
    "    u : rowLen(r) * n\n",
    "    v : colLen(r) * m'''\n",
    "    for i in range(ite):\n",
    "        if i%(ite//10) == 0:\n",
    "        #if True :\n",
    "            print(\"iter :\", i)\n",
    "            if verbose :\n",
    "                print(\"u\", u.mean(0))\n",
    "                print(\"v\", v.mean(0))\n",
    "        for ui, vi, d in r:\n",
    "            ui -= 1\n",
    "            vi -= 1\n",
    "            dist1 = d - u[ui].dot(v[vi])\n",
    "            v[vi] += eps * 2 *(dist1 * u[ui] + alpha * v[vi])\n",
    "            if l.has_node(ui) and l.out_degree[ui] != 0:\n",
    "                for zi in l.neighbors(ui):\n",
    "                    zi -= 1\n",
    "                    u[ui] += eps * 2 *(dist1 * v[vi] + alpha * u[ui] + beta * (u[zi] - u[ui]))\n",
    "                    u[zi] += eps * 2 *(alpha * u[zi] + beta * (u[zi] - u[ui]))\n",
    "            else :\n",
    "                u[ui] += eps * 2 *(dist1 * v[vi] + alpha * u[ui])\n",
    "        lossHisto.append(dist1*dist1)"
   ]
  },
  {
   "cell_type": "code",
   "execution_count": 12,
   "metadata": {},
   "outputs": [
    {
     "name": "stdout",
     "output_type": "stream",
     "text": [
      "iter : 0\n"
     ]
    },
    {
     "name": "stderr",
     "output_type": "stream",
     "text": [
      "/home/benlog/anaconda3/lib/python3.6/site-packages/ipykernel_launcher.py:20: RuntimeWarning: overflow encountered in multiply\n",
      "/home/benlog/anaconda3/lib/python3.6/site-packages/ipykernel_launcher.py:20: RuntimeWarning: invalid value encountered in add\n",
      "/home/benlog/anaconda3/lib/python3.6/site-packages/ipykernel_launcher.py:16: RuntimeWarning: overflow encountered in multiply\n",
      "  app.launch_new_instance()\n",
      "/home/benlog/anaconda3/lib/python3.6/site-packages/ipykernel_launcher.py:21: RuntimeWarning: invalid value encountered in subtract\n"
     ]
    },
    {
     "name": "stdout",
     "output_type": "stream",
     "text": [
      "iter : 10\n",
      "iter : 20\n"
     ]
    },
    {
     "ename": "KeyboardInterrupt",
     "evalue": "",
     "output_type": "error",
     "traceback": [
      "\u001b[0;31m---------------------------------------------------------------------------\u001b[0m",
      "\u001b[0;31mKeyboardInterrupt\u001b[0m                         Traceback (most recent call last)",
      "\u001b[0;32m<ipython-input-12-f87da3631305>\u001b[0m in \u001b[0;36m<module>\u001b[0;34m()\u001b[0m\n\u001b[1;32m      2\u001b[0m \u001b[0mv\u001b[0m \u001b[0;34m=\u001b[0m \u001b[0mnp\u001b[0m\u001b[0;34m.\u001b[0m\u001b[0mrandom\u001b[0m\u001b[0;34m.\u001b[0m\u001b[0mrand\u001b[0m\u001b[0;34m(\u001b[0m\u001b[0mdv\u001b[0m\u001b[0;34m,\u001b[0m \u001b[0;36m10\u001b[0m\u001b[0;34m)\u001b[0m\u001b[0;34m\u001b[0m\u001b[0m\n\u001b[1;32m      3\u001b[0m \u001b[0mlossHisto\u001b[0m \u001b[0;34m=\u001b[0m \u001b[0;34m[\u001b[0m\u001b[0;34m]\u001b[0m\u001b[0;34m\u001b[0m\u001b[0m\n\u001b[0;32m----> 4\u001b[0;31m \u001b[0mcolFilRez2\u001b[0m\u001b[0;34m(\u001b[0m\u001b[0mdata\u001b[0m\u001b[0;34m,\u001b[0m \u001b[0mlinks\u001b[0m\u001b[0;34m,\u001b[0m \u001b[0mu\u001b[0m\u001b[0;34m,\u001b[0m \u001b[0mv\u001b[0m\u001b[0;34m,\u001b[0m \u001b[0;36m100\u001b[0m\u001b[0;34m)\u001b[0m\u001b[0;34m\u001b[0m\u001b[0m\n\u001b[0m\u001b[1;32m      5\u001b[0m \u001b[0mplt\u001b[0m\u001b[0;34m.\u001b[0m\u001b[0mplot\u001b[0m\u001b[0;34m(\u001b[0m\u001b[0mlossHisto\u001b[0m\u001b[0;34m)\u001b[0m\u001b[0;34m\u001b[0m\u001b[0m\n\u001b[1;32m      6\u001b[0m \u001b[0mplt\u001b[0m\u001b[0;34m.\u001b[0m\u001b[0mylabel\u001b[0m\u001b[0;34m(\u001b[0m\u001b[0;34m'loss'\u001b[0m\u001b[0;34m)\u001b[0m\u001b[0;34m\u001b[0m\u001b[0m\n",
      "\u001b[0;32m<ipython-input-11-111cdc43341f>\u001b[0m in \u001b[0;36mcolFilRez2\u001b[0;34m(r, l, u, v, ite, alpha, beta, eps, verbose)\u001b[0m\n\u001b[1;32m     18\u001b[0m                 \u001b[0;32mfor\u001b[0m \u001b[0mzi\u001b[0m \u001b[0;32min\u001b[0m \u001b[0ml\u001b[0m\u001b[0;34m.\u001b[0m\u001b[0mneighbors\u001b[0m\u001b[0;34m(\u001b[0m\u001b[0mui\u001b[0m\u001b[0;34m)\u001b[0m\u001b[0;34m:\u001b[0m\u001b[0;34m\u001b[0m\u001b[0m\n\u001b[1;32m     19\u001b[0m                     \u001b[0mzi\u001b[0m \u001b[0;34m-=\u001b[0m \u001b[0;36m1\u001b[0m\u001b[0;34m\u001b[0m\u001b[0m\n\u001b[0;32m---> 20\u001b[0;31m                     \u001b[0mu\u001b[0m\u001b[0;34m[\u001b[0m\u001b[0mui\u001b[0m\u001b[0;34m]\u001b[0m \u001b[0;34m+=\u001b[0m \u001b[0meps\u001b[0m \u001b[0;34m*\u001b[0m \u001b[0;36m2\u001b[0m \u001b[0;34m*\u001b[0m\u001b[0;34m(\u001b[0m\u001b[0mdist1\u001b[0m \u001b[0;34m*\u001b[0m \u001b[0mv\u001b[0m\u001b[0;34m[\u001b[0m\u001b[0mvi\u001b[0m\u001b[0;34m]\u001b[0m \u001b[0;34m+\u001b[0m \u001b[0malpha\u001b[0m \u001b[0;34m*\u001b[0m \u001b[0mu\u001b[0m\u001b[0;34m[\u001b[0m\u001b[0mui\u001b[0m\u001b[0;34m]\u001b[0m \u001b[0;34m+\u001b[0m \u001b[0mbeta\u001b[0m \u001b[0;34m*\u001b[0m \u001b[0;34m(\u001b[0m\u001b[0mu\u001b[0m\u001b[0;34m[\u001b[0m\u001b[0mzi\u001b[0m\u001b[0;34m]\u001b[0m \u001b[0;34m-\u001b[0m \u001b[0mu\u001b[0m\u001b[0;34m[\u001b[0m\u001b[0mui\u001b[0m\u001b[0;34m]\u001b[0m\u001b[0;34m)\u001b[0m\u001b[0;34m)\u001b[0m\u001b[0;34m\u001b[0m\u001b[0m\n\u001b[0m\u001b[1;32m     21\u001b[0m                     \u001b[0mu\u001b[0m\u001b[0;34m[\u001b[0m\u001b[0mzi\u001b[0m\u001b[0;34m]\u001b[0m \u001b[0;34m+=\u001b[0m \u001b[0meps\u001b[0m \u001b[0;34m*\u001b[0m \u001b[0;36m2\u001b[0m \u001b[0;34m*\u001b[0m\u001b[0;34m(\u001b[0m\u001b[0malpha\u001b[0m \u001b[0;34m*\u001b[0m \u001b[0mu\u001b[0m\u001b[0;34m[\u001b[0m\u001b[0mzi\u001b[0m\u001b[0;34m]\u001b[0m \u001b[0;34m+\u001b[0m \u001b[0mbeta\u001b[0m \u001b[0;34m*\u001b[0m \u001b[0;34m(\u001b[0m\u001b[0mu\u001b[0m\u001b[0;34m[\u001b[0m\u001b[0mzi\u001b[0m\u001b[0;34m]\u001b[0m \u001b[0;34m-\u001b[0m \u001b[0mu\u001b[0m\u001b[0;34m[\u001b[0m\u001b[0mui\u001b[0m\u001b[0;34m]\u001b[0m\u001b[0;34m)\u001b[0m\u001b[0;34m)\u001b[0m\u001b[0;34m\u001b[0m\u001b[0m\n\u001b[1;32m     22\u001b[0m             \u001b[0;32melse\u001b[0m \u001b[0;34m:\u001b[0m\u001b[0;34m\u001b[0m\u001b[0m\n",
      "\u001b[0;31mKeyboardInterrupt\u001b[0m: "
     ]
    }
   ],
   "source": [
    "u = np.random.rand(du, 10)\n",
    "v = np.random.rand(dv, 10)\n",
    "lossHisto = []\n",
    "colFilRez2(data, links, u, v, 100)\n",
    "plt.plot(lossHisto)\n",
    "plt.ylabel('loss')\n",
    "plt.xlabel('nb batch traited')\n",
    "plt.show()"
   ]
  },
  {
   "cell_type": "code",
   "execution_count": null,
   "metadata": {},
   "outputs": [],
   "source": [
    "def colFilRez3(r, l, u, v, z, ite = 1, alpha = 0.001, beta = 0.1, eps = 1e-3, verbose = False):\n",
    "    '''r matrice sparse de la forme rowInd colInd data\n",
    "    u : rowLen(r) * n\n",
    "    v : colLen(r) * m'''\n",
    "    for i in range(ite):\n",
    "        if i%(ite//10) == 0:\n",
    "        #if True :\n",
    "            print(\"iter :\", i)\n",
    "            if verbose :\n",
    "                print(\"u\", u.mean(0))\n",
    "                print(\"v\", v.mean(0))\n",
    "        for ui, vi, d in r:\n",
    "            ui -= 1\n",
    "            vi -= 1\n",
    "            dist1 = d - u[ui].dot(v[vi])\n",
    "            v[vi] += eps * 2 *(dist1 * u[ui] + alpha * v[vi])\n",
    "            if l.has_node(ui) and l.out_degree[ui] != 0:\n",
    "                for zi in l.neighbors(ui):\n",
    "                    zi -= 1\n",
    "                    u[ui] += eps * 2 *(dist1 * v[vi] + alpha * u[ui] + beta * (z[zi] - u[ui]))\n",
    "                    z[zi] += eps * 2 *(alpha * z[zi] + beta * (z[zi] - u[ui]))\n",
    "            else :\n",
    "                u[ui] += eps * 2 *(dist1 * v[vi] + alpha * u[ui])\n",
    "        lossHisto.append(dist1*dist1)"
   ]
  },
  {
   "cell_type": "code",
   "execution_count": null,
   "metadata": {},
   "outputs": [],
   "source": [
    "u = np.random.rand(du, 10)\n",
    "v = np.random.rand(dv, 10)\n",
    "z = np.random.rand(dv, 10)\n",
    "lossHisto = []\n",
    "colFilRez3(data, links, u, v, z, 100)\n",
    "plt.plot(lossHisto)\n",
    "plt.ylabel('loss')\n",
    "plt.xlabel('nb batch traited')\n",
    "plt.show()"
   ]
  }
 ],
 "metadata": {
  "kernelspec": {
   "display_name": "Python 3",
   "language": "python",
   "name": "python3"
  }
 },
 "nbformat": 4,
 "nbformat_minor": 2
}
